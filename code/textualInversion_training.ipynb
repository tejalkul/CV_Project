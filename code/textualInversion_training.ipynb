{
 "cells": [
  {
   "cell_type": "code",
   "execution_count": 2,
   "metadata": {},
   "outputs": [
    {
     "name": "stderr",
     "output_type": "stream",
     "text": [
      "2025-04-30 21:28:58.076695: I tensorflow/core/util/port.cc:153] oneDNN custom operations are on. You may see slightly different numerical results due to floating-point round-off errors from different computation orders. To turn them off, set the environment variable `TF_ENABLE_ONEDNN_OPTS=0`.\n",
      "2025-04-30 21:28:58.116997: E external/local_xla/xla/stream_executor/cuda/cuda_fft.cc:467] Unable to register cuFFT factory: Attempting to register factory for plugin cuFFT when one has already been registered\n",
      "WARNING: All log messages before absl::InitializeLog() is called are written to STDERR\n",
      "E0000 00:00:1746028738.146139   69538 cuda_dnn.cc:8579] Unable to register cuDNN factory: Attempting to register factory for plugin cuDNN when one has already been registered\n",
      "E0000 00:00:1746028738.151499   69538 cuda_blas.cc:1407] Unable to register cuBLAS factory: Attempting to register factory for plugin cuBLAS when one has already been registered\n",
      "W0000 00:00:1746028738.202705   69538 computation_placer.cc:177] computation placer already registered. Please check linkage and avoid linking the same target more than once.\n",
      "W0000 00:00:1746028738.202733   69538 computation_placer.cc:177] computation placer already registered. Please check linkage and avoid linking the same target more than once.\n",
      "W0000 00:00:1746028738.202735   69538 computation_placer.cc:177] computation placer already registered. Please check linkage and avoid linking the same target more than once.\n",
      "W0000 00:00:1746028738.202736   69538 computation_placer.cc:177] computation placer already registered. Please check linkage and avoid linking the same target more than once.\n",
      "2025-04-30 21:28:58.211094: I tensorflow/core/platform/cpu_feature_guard.cc:210] This TensorFlow binary is optimized to use available CPU instructions in performance-critical operations.\n",
      "To enable the following instructions: AVX2 AVX512F AVX512_VNNI FMA, in other operations, rebuild TensorFlow with the appropriate compiler flags.\n"
     ]
    }
   ],
   "source": [
    "import torch\n",
    "import clip\n",
    "from PIL import Image\n",
    "import numpy as np\n",
    "from diffusers import StableDiffusionPipeline\n",
    "import torch\n",
    "import os\n",
    "import random\n",
    "from pytorch_fid import fid_score"
   ]
  },
  {
   "cell_type": "code",
   "execution_count": null,
   "metadata": {},
   "outputs": [
    {
     "name": "stdout",
     "output_type": "stream",
     "text": [
      "CUDA cache emptied.\n"
     ]
    },
    {
     "data": {
      "text/plain": [
       "63752"
      ]
     },
     "execution_count": 14,
     "metadata": {},
     "output_type": "execute_result"
    },
    {
     "ename": "",
     "evalue": "",
     "output_type": "error",
     "traceback": [
      "\u001b[1;31mThe Kernel crashed while executing code in the current cell or a previous cell. \n",
      "\u001b[1;31mPlease review the code in the cell(s) to identify a possible cause of the failure. \n",
      "\u001b[1;31mClick <a href='https://aka.ms/vscodeJupyterKernelCrash'>here</a> for more info. \n",
      "\u001b[1;31mView Jupyter <a href='command:jupyter.viewOutput'>log</a> for further details."
     ]
    }
   ],
   "source": [
    "# empty cuda \n",
    "import torch\n",
    "if torch.cuda.is_available():\n",
    "    torch.cuda.empty_cache()\n",
    "    print(\"CUDA cache emptied.\")\n",
    "else:\n",
    "    print(\"CUDA is not available.\")\n",
    "\n",
    "# gc \n",
    "import gc\n",
    "gc.collect()\n",
    "    "
   ]
  },
  {
   "cell_type": "code",
   "execution_count": 4,
   "metadata": {},
   "outputs": [
    {
     "data": {
      "text/plain": [
       "'cuda'"
      ]
     },
     "execution_count": 4,
     "metadata": {},
     "output_type": "execute_result"
    }
   ],
   "source": [
    "device = \"cuda\" if torch.cuda.is_available() else \"cpu\"\n",
    "device"
   ]
  },
  {
   "cell_type": "code",
   "execution_count": 5,
   "metadata": {},
   "outputs": [],
   "source": [
    "# !pip install diffusers[flax] accelerate transformers\n",
    "# !pip install xformers"
   ]
  },
  {
   "cell_type": "code",
   "execution_count": null,
   "metadata": {},
   "outputs": [],
   "source": [
    "# !bash launch_textualInversion.sh"
   ]
  },
  {
   "cell_type": "code",
   "execution_count": 7,
   "metadata": {},
   "outputs": [],
   "source": [
    "clip_model, preprocess = clip.load(\"ViT-B/32\", device=device)\n"
   ]
  },
  {
   "cell_type": "code",
   "execution_count": 5,
   "metadata": {},
   "outputs": [],
   "source": [
    "def generate_images(prompt,num_images,output_dir,output_subdir,embeddings):\n",
    "    # Create the directory if it doesn't exist\n",
    "    if not os.path.exists(output_dir):\n",
    "        os.makedirs(output_dir)\n",
    "\n",
    "    if not os.path.exists(f\"{output_dir}/{output_subdir}\"):\n",
    "        os.makedirs(f\"{output_dir}/{output_subdir}\")\n",
    "\n",
    "    model_id = \"runwayml/stable-diffusion-v1-5\"\n",
    "    pipe = StableDiffusionPipeline.from_pretrained(model_id,torch_dtype=torch.float16).to(device)\n",
    "\n",
    "    pipe.load_textual_inversion(embeddings)\n",
    "    gen_images = []\n",
    "    for i in range(num_images):\n",
    "        image = pipe(prompt, num_inference_steps=50, guidance_scale=7.5).images[0]\n",
    "        # extarct image name from output_subdir\n",
    "        image_name = output_subdir.split(\"/\")[-1]\n",
    "      \n",
    "        image.save(f\"{output_dir}/{output_subdir}/{image_name}_{i}.png\")\n",
    "        print(f\"Image {i} saved.\")\n",
    "        gen_images.append(f\"{output_dir}/{output_subdir}/{image_name}_{i}.png\")\n",
    "    return gen_images\n",
    "\n",
    "\n",
    "def compute_clip_similarity(gen_images,prompt):\n",
    "\n",
    "    # encode text\n",
    "    text = clip.tokenize([prompt]).to(device)\n",
    "    # Encode the text prompt\n",
    "    with torch.no_grad():\n",
    "        text_features = clip_model.encode_text(text)\n",
    "    # Normalize the text features\n",
    "    text_features /= text_features.norm(dim=-1, keepdim=True)\n",
    "\n",
    "    similarity_scores = []\n",
    "\n",
    "    # check if gen_images is a list of images or a direct\n",
    "\n",
    "    for image in gen_images:\n",
    "        # Preprocess the image\n",
    "        image = preprocess(Image.open(image)).unsqueeze(0).to(device)\n",
    "        # Encode the image\n",
    "        with torch.no_grad():\n",
    "            image_features = clip_model.encode_image(image)\n",
    "        # Normalize the image features\n",
    "        image_features /= image_features.norm(dim=-1, keepdim=True)\n",
    "        # Calculate the similarity score\n",
    "        similarity_score = (image_features @ text_features.T).squeeze(0)\n",
    "        similarity_scores.append(similarity_score.item())\n",
    "    return np.mean(similarity_scores)\n",
    "\n",
    "\n",
    "def fid_score_calc(real_img_dir,gen_img_dir):\n",
    "    # from fid_score import calculate_fid_given_paths\n",
    "    # Calculate FID score\n",
    "    fid_score_val = fid_score.calculate_fid_given_paths([real_img_dir, gen_img_dir], batch_size=2, device=device,dims=2048)\n",
    "    return fid_score_val\n",
    "\n",
    "\n",
    "def resize_images(image_dir, target_size=(256, 256)):\n",
    "\n",
    "    valid_extensions = ('.png', '.jpg', '.jpeg')\n",
    "    for img_name in os.listdir(image_dir):\n",
    "        if img_name.endswith(valid_extensions):\n",
    "            img_path = os.path.join(image_dir, img_name)\n",
    "            img = Image.open(img_path).resize(target_size)\n",
    "            img.save(img_path)\n",
    "\n",
    "\n",
    "from PIL import Image\n",
    "import os\n",
    "import matplotlib.pyplot as plt\n",
    "\n",
    "def display_images_in_directory(directory):\n",
    "    # Get a list of all image files in the directory\n",
    "    image_files = [f for f in os.listdir(directory) if f.endswith(('.png', '.jpg', '.jpeg'))]\n",
    "\n",
    "    # Create a figure to display the images\n",
    "    plt.figure(figsize=(10, 5))\n",
    "\n",
    "    # Loop through the image files and display each one\n",
    "    for i, image_file in enumerate(image_files):\n",
    "        image_path = os.path.join(directory, image_file)\n",
    "        img = Image.open(image_path)\n",
    "        plt.subplot(3, 3, i + 1)\n",
    "        plt.imshow(img)\n",
    "        plt.axis('off')\n",
    "        plt.title(image_file)\n",
    "\n",
    "    plt.tight_layout()\n",
    "    plt.show()\n",
    "\n",
    "\n",
    "import os\n",
    "import matplotlib.pyplot as plt\n",
    "from PIL import Image\n",
    "\n",
    "def display_gen_imgs(dir, max_images=10):\n",
    "    # Get a list of image files (sorted for consistency)\n",
    "    image_files = sorted([f for f in os.listdir(dir) if f.lower().endswith(('.png', '.jpg', '.jpeg'))])\n",
    "    image_files = image_files[:max_images]\n",
    "    num_images = len(image_files)\n",
    "\n",
    "    # Grid dimensions (e.g., 5x2 for 10 images)\n",
    "    cols = 5\n",
    "    rows = (num_images + cols - 1) // cols\n",
    "\n",
    "    # Plot the images\n",
    "    plt.figure(figsize=(4 * cols, 4 * rows))\n",
    "    for i, image_file in enumerate(image_files):\n",
    "        image_path = os.path.join(dir, image_file)\n",
    "        img = Image.open(image_path)\n",
    "        plt.subplot(rows, cols, i + 1)\n",
    "        plt.imshow(img)\n",
    "        plt.axis('off')\n",
    "        plt.title(image_file, fontsize=8)\n",
    "\n",
    "    plt.tight_layout()\n",
    "    plt.show()\n",
    "\n",
    "\n"
   ]
  },
  {
   "cell_type": "markdown",
   "metadata": {},
   "source": [
    "## Wikiart dataset"
   ]
  },
  {
   "cell_type": "markdown",
   "metadata": {},
   "source": [
    "1. **Impressionism** class"
   ]
  },
  {
   "cell_type": "code",
   "execution_count": null,
   "metadata": {},
   "outputs": [],
   "source": [
    "num_images = 10\n",
    "output_dir = \"Prompt_Images/Impressionism\"\n",
    "prompt_test = \"<impressionism-style> A serene lakeside scene at sunset, with soft brushstrokes and warm pastel colors, capturing the movement of light on water.\"\n",
    "# generate images\n",
    "gen_images = generate_images(prompt_test,num_images,output_dir,\"lakeside\", \"embeddings/Impressionism\")\n",
    "# compute clip similarity\n",
    "similarity_score = compute_clip_similarity(gen_images,prompt_test)\n",
    "print(f\"CLIP Similarity Score: {similarity_score}\")\n",
    "\n",
    "\n"
   ]
  },
  {
   "cell_type": "code",
   "execution_count": 12,
   "metadata": {},
   "outputs": [
    {
     "name": "stdout",
     "output_type": "stream",
     "text": [
      "Real Images: 40\n",
      "Generated Images: 10\n",
      "Prompt_Images/Impressionism/lakeside\n"
     ]
    },
    {
     "name": "stderr",
     "output_type": "stream",
     "text": [
      "100%|██████████| 20/20 [00:00<00:00, 39.17it/s]\n",
      "100%|██████████| 5/5 [00:00<00:00, 28.46it/s]\n"
     ]
    },
    {
     "name": "stdout",
     "output_type": "stream",
     "text": [
      "FID Score: 310.3736006785706\n"
     ]
    }
   ],
   "source": [
    "# calculate fid score\n",
    "real_img_dir = \"wikiart_curated/kaggle/working/wikiart_curated/Impressionism\"\n",
    "resize_images(real_img_dir)\n",
    "\n",
    "gen_img_dir = f\"{output_dir}/lakeside\"\n",
    "\n",
    "print(\"Real Images:\", len(os.listdir(real_img_dir)))\n",
    "print(\"Generated Images:\", len(os.listdir(gen_img_dir)))\n",
    "\n",
    "# len(gen_images)\n",
    "print(gen_img_dir)\n",
    "\n",
    "\n",
    "# resize images in gen\n",
    "resize_images(gen_img_dir)\n",
    "# calculate fid score\n",
    "fid_score_val = fid_score_calc(real_img_dir, gen_img_dir)\n",
    "print(f\"FID Score: {fid_score_val}\")"
   ]
  },
  {
   "cell_type": "code",
   "execution_count": null,
   "metadata": {},
   "outputs": [],
   "source": [
    "num_images = 10\n",
    "output_dir = \"Prompt_Images/Impressionism\"\n",
    "prompt_test = \"<impressionism-style> A woman seated indoors near a sunlit balcony, with soft, textured brushstrokes and warm, muted tones, evoking a serene and reflective atmosphere watching another woman outside the balcony.\"\n",
    "\n",
    "# generate images\n",
    "gen_images = generate_images(prompt_test,num_images,output_dir,\"Women_on_Balcony\", \"embeddings/Impressionism\")\n",
    "# compute clip similarity\n",
    "similarity_score = compute_clip_similarity(gen_images,prompt_test)\n",
    "print(f\"CLIP Similarity Score: {similarity_score}\")"
   ]
  },
  {
   "cell_type": "code",
   "execution_count": 15,
   "metadata": {},
   "outputs": [
    {
     "name": "stderr",
     "output_type": "stream",
     "text": [
      "100%|██████████| 20/20 [00:00<00:00, 37.23it/s]\n",
      "100%|██████████| 8/8 [00:00<00:00, 29.78it/s]\n"
     ]
    },
    {
     "name": "stdout",
     "output_type": "stream",
     "text": [
      "FID Score: 388.29444870692066\n"
     ]
    }
   ],
   "source": [
    "real_img_dir = \"wikiart_curated/kaggle/working/wikiart_curated/Impressionism\"\n",
    "resize_images(real_img_dir)\n",
    "gen_img_dir = f\"{output_dir}/Women_on_Balcony\"\n",
    "resize_images(gen_img_dir)\n",
    "\n",
    "fid_score_val = fid_score_calc(real_img_dir, gen_img_dir)\n",
    "print(f\"FID Score: {fid_score_val}\")"
   ]
  },
  {
   "cell_type": "code",
   "execution_count": null,
   "metadata": {},
   "outputs": [],
   "source": [
    "# display images\n",
    "gen_img_dir = f\"{output_dir}/Women_on_Balcony\"\n",
    "display_gen_imgs(gen_img_dir)"
   ]
  },
  {
   "cell_type": "markdown",
   "metadata": {},
   "source": [
    "2. **Abstract Expresssioism** class"
   ]
  },
  {
   "cell_type": "code",
   "execution_count": null,
   "metadata": {},
   "outputs": [],
   "source": [
    "num_images = 10\n",
    "output_dir = \"Prompt_Images/Abstract_Expressionism\"\n",
    "prompt_test = \"<Abstract_Expressionism-style> A dynamic explosion of colors and shapes, with bold brushstrokes and a sense of movement, capturing the essence of abstract expressionism.\"\n",
    "# generate images\n",
    "gen_images = generate_images(prompt_test,num_images,output_dir,\"abstract_expressionism\", \"embeddings/Abstract_Expressionism\")\n",
    "# compute clip similarity\n",
    "similarity_score = compute_clip_similarity(gen_images,prompt_test)\n",
    "print(f\"CLIP Similarity Score: {similarity_score}\")"
   ]
  },
  {
   "cell_type": "code",
   "execution_count": 8,
   "metadata": {},
   "outputs": [
    {
     "name": "stdout",
     "output_type": "stream",
     "text": [
      "Real Images: 40\n",
      "Generated Images: 10\n",
      "Prompt_Images/Abstract_Expressionism/abstract_expressionism\n"
     ]
    },
    {
     "name": "stderr",
     "output_type": "stream",
     "text": [
      "100%|██████████| 20/20 [00:00<00:00, 28.62it/s]\n",
      "100%|██████████| 5/5 [00:00<00:00, 15.69it/s]\n"
     ]
    },
    {
     "name": "stdout",
     "output_type": "stream",
     "text": [
      "FID Score: 446.05996104902334\n"
     ]
    }
   ],
   "source": [
    "# calculate fid score\n",
    "real_img_dir = \"wikiart_curated/kaggle/working/wikiart_curated/Abstract_Expressionism\"\n",
    "resize_images(real_img_dir)\n",
    "gen_img_dir = f\"{output_dir}/abstract_expressionism\"\n",
    "print(\"Real Images:\", len(os.listdir(real_img_dir)))\n",
    "print(\"Generated Images:\", len(os.listdir(gen_img_dir)))\n",
    "# len(gen_images)\n",
    "print(gen_img_dir)\n",
    "resize_images(real_img_dir)\n",
    "# resize images in gen\n",
    "resize_images(gen_img_dir)\n",
    "# calculate fid score\n",
    "fid_score_val = fid_score_calc(real_img_dir, gen_img_dir)\n",
    "print(f\"FID Score: {fid_score_val}\")"
   ]
  },
  {
   "cell_type": "markdown",
   "metadata": {},
   "source": [
    "3. **Action_painting** class"
   ]
  },
  {
   "cell_type": "code",
   "execution_count": null,
   "metadata": {},
   "outputs": [],
   "source": [
    "dir = \"wikiart_curated/kaggle/working/wikiart_curated/Action_painting\"\n",
    "\n",
    "# print 10 images in the directory\n",
    "import os\n",
    "\n",
    "import random\n",
    "\n",
    "import matplotlib.pyplot as plt\n",
    "import matplotlib.image as mpimg\n",
    "\n",
    "import numpy as np\n",
    "\n",
    "# Get a list of all files in the directory\n",
    "files = os.listdir(dir)\n",
    "# Filter the list to include only image files\n",
    "\n",
    "image_files = [f for f in files if f.endswith(('.png', '.jpg', '.jpeg'))]\n",
    "\n",
    "# Randomly select 10 images\n",
    "random_images = random.sample(image_files, 10)\n",
    "# Display the images\n",
    "plt.figure(figsize=(20, 10))\n",
    "for i, img_file in enumerate(random_images):\n",
    "    img_path = os.path.join(dir, img_file)\n",
    "    img = mpimg.imread(img_path)\n",
    "    plt.subplot(2, 5, i + 1)\n",
    "    plt.imshow(img)\n",
    "    plt.axis('off')\n",
    "plt.show()\n"
   ]
  },
  {
   "cell_type": "code",
   "execution_count": null,
   "metadata": {},
   "outputs": [],
   "source": [
    "num_images = 10\n",
    "output_dir = \"Prompt_Images/Action_painting\"\n",
    "prompt_test = \"<Action_painting-style> A dark and chaotic action painting, aggressive brushstrokes, bold streaks of black, red, and white, raw emotional energy on canvas\"\n",
    "# generate images\n",
    "gen_images = generate_images(prompt_test,num_images,output_dir,\"action_painting\", \"embeddings/Action_painting\")\n",
    "# compute clip similarity\n",
    "similarity_score = compute_clip_similarity(gen_images,prompt_test)\n",
    "print(f\"CLIP Similarity Score: {similarity_score}\")\n",
    "\n",
    "\n"
   ]
  },
  {
   "cell_type": "code",
   "execution_count": null,
   "metadata": {},
   "outputs": [],
   "source": [
    "action_painting_dir = \"Prompt_Images/Action_painting/action_painting\"\n",
    "\n",
    "display_gen_imgs(action_painting_dir)"
   ]
  },
  {
   "cell_type": "code",
   "execution_count": 11,
   "metadata": {},
   "outputs": [
    {
     "name": "stdout",
     "output_type": "stream",
     "text": [
      "Real Images: 40\n",
      "Generated Images: 10\n",
      "Prompt_Images/Action_painting/action_painting\n"
     ]
    },
    {
     "name": "stderr",
     "output_type": "stream",
     "text": [
      "100%|██████████| 20/20 [00:00<00:00, 24.67it/s]\n",
      "100%|██████████| 5/5 [00:00<00:00, 13.15it/s]\n"
     ]
    },
    {
     "name": "stdout",
     "output_type": "stream",
     "text": [
      "FID Score: 465.28043514036847\n"
     ]
    }
   ],
   "source": [
    "real_img_dir = \"wikiart_curated/kaggle/working/wikiart_curated/Action_painting\"\n",
    "\n",
    "gen_img_dir = f\"{output_dir}/action_painting\"\n",
    "print(\"Real Images:\", len(os.listdir(real_img_dir)))\n",
    "print(\"Generated Images:\", len(os.listdir(gen_img_dir)))\n",
    "# len(gen_images)\n",
    "print(gen_img_dir)\n",
    "# resize images in gen\n",
    "resize_images(real_img_dir)\n",
    "# resize images in gen\n",
    "resize_images(gen_img_dir)\n",
    "# calculate fid score\n",
    "fid_score_val = fid_score_calc(real_img_dir, gen_img_dir)\n",
    "print(f\"FID Score: {fid_score_val}\")"
   ]
  },
  {
   "cell_type": "markdown",
   "metadata": {},
   "source": [
    "4. **Analytical_Cubism** class"
   ]
  },
  {
   "cell_type": "code",
   "execution_count": null,
   "metadata": {},
   "outputs": [],
   "source": [
    "dir = \"wikiart_curated/kaggle/working/wikiart_curated/Analytical_Cubism\"\n",
    "# print 10 images in the directory\n",
    "import os\n",
    "import random\n",
    "\n",
    "import matplotlib.pyplot as plt\n",
    "\n",
    "import matplotlib.image as mpimg\n",
    "\n",
    "import numpy as np\n",
    "\n",
    "# Get a list of all files in the directory\n",
    "files = os.listdir(dir)\n",
    "# Filter the list to include only image files\n",
    "image_files = [f for f in files if f.endswith(('.png', '.jpg', '.jpeg'))]\n",
    "# Randomly select 10 images\n",
    "\n",
    "random_images = random.sample(image_files, 10)\n",
    "# Display the images\n",
    "plt.figure(figsize=(20, 10))\n",
    "\n",
    "for i, img_file in enumerate(random_images):\n",
    "    img_path = os.path.join(dir, img_file)\n",
    "    img = mpimg.imread(img_path)\n",
    "    plt.subplot(2, 5, i + 1)\n",
    "    plt.imshow(img)\n",
    "    plt.axis('off')\n",
    "plt.show()\n"
   ]
  },
  {
   "cell_type": "code",
   "execution_count": 11,
   "metadata": {},
   "outputs": [
    {
     "data": {
      "application/vnd.jupyter.widget-view+json": {
       "model_id": "51f157c31ffb4331bd47b271e82476e1",
       "version_major": 2,
       "version_minor": 0
      },
      "text/plain": [
       "Loading pipeline components...:   0%|          | 0/7 [00:00<?, ?it/s]"
      ]
     },
     "metadata": {},
     "output_type": "display_data"
    },
    {
     "data": {
      "application/vnd.jupyter.widget-view+json": {
       "model_id": "4fcefe896818489e8018096dd8e03f48",
       "version_major": 2,
       "version_minor": 0
      },
      "text/plain": [
       "  0%|          | 0/50 [00:00<?, ?it/s]"
      ]
     },
     "metadata": {},
     "output_type": "display_data"
    },
    {
     "name": "stdout",
     "output_type": "stream",
     "text": [
      "Image 0 saved.\n"
     ]
    },
    {
     "data": {
      "application/vnd.jupyter.widget-view+json": {
       "model_id": "00a1fc4bfdb54844b9f6991318c66584",
       "version_major": 2,
       "version_minor": 0
      },
      "text/plain": [
       "  0%|          | 0/50 [00:00<?, ?it/s]"
      ]
     },
     "metadata": {},
     "output_type": "display_data"
    },
    {
     "name": "stdout",
     "output_type": "stream",
     "text": [
      "Image 1 saved.\n"
     ]
    },
    {
     "data": {
      "application/vnd.jupyter.widget-view+json": {
       "model_id": "933d0a46414b4c599551e98bdcdd0475",
       "version_major": 2,
       "version_minor": 0
      },
      "text/plain": [
       "  0%|          | 0/50 [00:00<?, ?it/s]"
      ]
     },
     "metadata": {},
     "output_type": "display_data"
    },
    {
     "name": "stdout",
     "output_type": "stream",
     "text": [
      "Image 2 saved.\n"
     ]
    },
    {
     "data": {
      "application/vnd.jupyter.widget-view+json": {
       "model_id": "43f93fea4bd2496588707c6e05836c5d",
       "version_major": 2,
       "version_minor": 0
      },
      "text/plain": [
       "  0%|          | 0/50 [00:00<?, ?it/s]"
      ]
     },
     "metadata": {},
     "output_type": "display_data"
    },
    {
     "name": "stdout",
     "output_type": "stream",
     "text": [
      "Image 3 saved.\n"
     ]
    },
    {
     "data": {
      "application/vnd.jupyter.widget-view+json": {
       "model_id": "74ecf4fa5cfd47fbaaeb673c43a888a6",
       "version_major": 2,
       "version_minor": 0
      },
      "text/plain": [
       "  0%|          | 0/50 [00:00<?, ?it/s]"
      ]
     },
     "metadata": {},
     "output_type": "display_data"
    },
    {
     "name": "stdout",
     "output_type": "stream",
     "text": [
      "Image 4 saved.\n"
     ]
    },
    {
     "data": {
      "application/vnd.jupyter.widget-view+json": {
       "model_id": "2ce31b0bd7094fd89d0166b8e17f4d56",
       "version_major": 2,
       "version_minor": 0
      },
      "text/plain": [
       "  0%|          | 0/50 [00:00<?, ?it/s]"
      ]
     },
     "metadata": {},
     "output_type": "display_data"
    },
    {
     "name": "stdout",
     "output_type": "stream",
     "text": [
      "Image 5 saved.\n"
     ]
    },
    {
     "data": {
      "application/vnd.jupyter.widget-view+json": {
       "model_id": "cb425d7c46db4e1e86bd8bce90e9845f",
       "version_major": 2,
       "version_minor": 0
      },
      "text/plain": [
       "  0%|          | 0/50 [00:00<?, ?it/s]"
      ]
     },
     "metadata": {},
     "output_type": "display_data"
    },
    {
     "name": "stdout",
     "output_type": "stream",
     "text": [
      "Image 6 saved.\n"
     ]
    },
    {
     "data": {
      "application/vnd.jupyter.widget-view+json": {
       "model_id": "f998413262b84dc9a394dfec7edfeb35",
       "version_major": 2,
       "version_minor": 0
      },
      "text/plain": [
       "  0%|          | 0/50 [00:00<?, ?it/s]"
      ]
     },
     "metadata": {},
     "output_type": "display_data"
    },
    {
     "name": "stdout",
     "output_type": "stream",
     "text": [
      "Image 7 saved.\n"
     ]
    },
    {
     "data": {
      "application/vnd.jupyter.widget-view+json": {
       "model_id": "d1d0c14fcfd4458e832e7b8a12125fd6",
       "version_major": 2,
       "version_minor": 0
      },
      "text/plain": [
       "  0%|          | 0/50 [00:00<?, ?it/s]"
      ]
     },
     "metadata": {},
     "output_type": "display_data"
    },
    {
     "name": "stdout",
     "output_type": "stream",
     "text": [
      "Image 8 saved.\n"
     ]
    },
    {
     "data": {
      "application/vnd.jupyter.widget-view+json": {
       "model_id": "e1d5d04f55e049b1aee66d50fb002360",
       "version_major": 2,
       "version_minor": 0
      },
      "text/plain": [
       "  0%|          | 0/50 [00:00<?, ?it/s]"
      ]
     },
     "metadata": {},
     "output_type": "display_data"
    },
    {
     "name": "stderr",
     "output_type": "stream",
     "text": [
      "Potential NSFW content was detected in one or more images. A black image will be returned instead. Try again with a different prompt and/or seed.\n"
     ]
    },
    {
     "name": "stdout",
     "output_type": "stream",
     "text": [
      "Image 9 saved.\n",
      "CLIP Similarity Score: 0.33416748046875\n"
     ]
    }
   ],
   "source": [
    "num_images = 10\n",
    "output_dir = \"Prompt_Images/Analytical_Cubism\"\n",
    "\n",
    "prompt_test = \"<Analytical_Cubism-style> A distorted cubist portrait, angular planes, multiple perspectives merged into one, abstract facial features, using earthy browns, greys, and ochre.\"\n",
    "# generate images\n",
    "gen_images = generate_images(prompt_test,num_images,output_dir,\"analytical_cubism\", \"embeddings/Analytical_Cubism\")\n",
    "# compute clip similarity\n",
    "similarity_score = compute_clip_similarity(gen_images,prompt_test)\n",
    "print(f\"CLIP Similarity Score: {similarity_score}\")\n"
   ]
  },
  {
   "cell_type": "code",
   "execution_count": 12,
   "metadata": {},
   "outputs": [
    {
     "name": "stdout",
     "output_type": "stream",
     "text": [
      "Real Images: 40\n",
      "Generated Images: 10\n"
     ]
    },
    {
     "name": "stderr",
     "output_type": "stream",
     "text": [
      "100%|██████████| 20/20 [00:00<00:00, 26.37it/s]\n",
      "100%|██████████| 5/5 [00:00<00:00, 21.40it/s]\n"
     ]
    },
    {
     "name": "stdout",
     "output_type": "stream",
     "text": [
      "FID Score: 348.2420193210146\n"
     ]
    }
   ],
   "source": [
    "# fid \n",
    "real_img_dir = \"wikiart_curated/kaggle/working/wikiart_curated/Analytical_Cubism\"\n",
    "resize_images(real_img_dir)\n",
    "gen_img_dir = f\"{output_dir}/analytical_cubism\"\n",
    "print(\"Real Images:\", len(os.listdir(real_img_dir)))\n",
    "print(\"Generated Images:\", len(os.listdir(gen_img_dir)))\n",
    "# len(gen_images)\n",
    "# print(gen_img_dir)\n",
    "# resize images in gen\n",
    "resize_images(gen_img_dir)\n",
    "# calculate fid score\n",
    "fid_score_val = fid_score_calc(real_img_dir, gen_img_dir)\n",
    "print(f\"FID Score: {fid_score_val}\")"
   ]
  },
  {
   "cell_type": "markdown",
   "metadata": {},
   "source": [
    "## Dreambooth dataset"
   ]
  },
  {
   "cell_type": "markdown",
   "metadata": {},
   "source": [
    "1. **Cat** class"
   ]
  },
  {
   "cell_type": "code",
   "execution_count": null,
   "metadata": {},
   "outputs": [],
   "source": [
    "# display all images in a directory\n",
    "dir= \"dataset/cat\"\n",
    "\n",
    "# Example usage\n",
    "display_images_in_directory(dir)"
   ]
  },
  {
   "cell_type": "code",
   "execution_count": null,
   "metadata": {},
   "outputs": [],
   "source": [
    "num_images = 10\n",
    "output_dir = \"Prompt_Images/Dreambooth/cat\"\n",
    "prompt = \"A photo of <cat> in a grassy field during sunset\"\n",
    "output_subdir = \"cat_sunset\"\n",
    "embeddings = \"embeddings/dreambooth/cat\"\n",
    "gen_images = generate_images(prompt,num_images,output_dir,output_subdir,embeddings=embeddings)\n",
    "# compute clip similarity\n",
    "similarity_score = compute_clip_similarity(gen_images,prompt)\n",
    "print(f\"Similarity score for |{output_dir}| -> |{output_subdir}| : {similarity_score}\")"
   ]
  },
  {
   "cell_type": "code",
   "execution_count": null,
   "metadata": {},
   "outputs": [
    {
     "name": "stdout",
     "output_type": "stream",
     "text": [
      "Real Images: 5\n",
      "Generated Images: 10\n",
      "Valid Real Images: 5\n",
      "Valid Generated Images: 10\n",
      "Images resized!\n"
     ]
    },
    {
     "name": "stderr",
     "output_type": "stream",
     "text": [
      "100%|██████████| 3/3 [00:00<00:00,  5.29it/s]\n",
      "100%|██████████| 5/5 [00:00<00:00, 25.11it/s]\n"
     ]
    },
    {
     "name": "stdout",
     "output_type": "stream",
     "text": [
      "FID score for |dataset/cat| -> |Prompt_Images/Dreambooth/cat/cat_sunset| : 201.6868119294298\n"
     ]
    }
   ],
   "source": [
    "# fid score\n",
    "real_img_dir = \"dataset/cat\"\n",
    "gen_img_dir = f\"{output_dir}/{output_subdir}\"\n",
    "print(\"Real Images:\", len(os.listdir(real_img_dir)))\n",
    "print(\"Generated Images:\", len(os.listdir(gen_img_dir)))\n",
    "\n",
    "\n",
    "\n",
    "from PIL import Image\n",
    "\n",
    "\n",
    "\n",
    "resize_images(real_img_dir)\n",
    "resize_images(gen_img_dir)\n",
    "print(\"Images resized!\")\n",
    "\n",
    "\n",
    "fid_score_val = fid_score_calc(real_img_dir,gen_img_dir)\n",
    "print(f\"FID score for |{real_img_dir}| -> |{gen_img_dir}| : {fid_score_val}\")"
   ]
  },
  {
   "cell_type": "markdown",
   "metadata": {},
   "source": [
    "2. **dog** class"
   ]
  },
  {
   "cell_type": "code",
   "execution_count": null,
   "metadata": {},
   "outputs": [],
   "source": [
    "dir = \"dataset/dog\"\n",
    "\n",
    "# print all iamges in dir\n",
    "from PIL import Image\n",
    "import os\n",
    "\n",
    "import matplotlib.pyplot as plt\n",
    "\n",
    "display_images_in_directory(dir)\n",
    "    "
   ]
  },
  {
   "cell_type": "code",
   "execution_count": null,
   "metadata": {},
   "outputs": [],
   "source": [
    "num_images = 10\n",
    "\n",
    "output_dir = \"Prompt_Images/Dreambooth/dog\"\n",
    "prompt = \"A photo of <dog> in a grassy field during sunset\"\n",
    "output_subdir = \"dog_sunset\"\n",
    "embeddings = \"embeddings/dreambooth/dog\"\n",
    "gen_images = generate_images(prompt,num_images,output_dir,output_subdir,embeddings=embeddings)\n"
   ]
  },
  {
   "cell_type": "code",
   "execution_count": 10,
   "metadata": {},
   "outputs": [
    {
     "name": "stdout",
     "output_type": "stream",
     "text": [
      "Similarity score for |Prompt_Images/Dreambooth/dog| -> |dog_sunset| : 0.26429443359375\n"
     ]
    }
   ],
   "source": [
    "# compute clip similarity\n",
    "similarity_score = compute_clip_similarity(gen_images,prompt)\n",
    "print(f\"Similarity score for |{output_dir}| -> |{output_subdir}| : {similarity_score}\")"
   ]
  },
  {
   "cell_type": "code",
   "execution_count": 11,
   "metadata": {},
   "outputs": [
    {
     "name": "stdout",
     "output_type": "stream",
     "text": [
      "Real Images: 5\n",
      "Generated Images: 10\n"
     ]
    },
    {
     "name": "stderr",
     "output_type": "stream",
     "text": [
      "100%|██████████| 3/3 [00:00<00:00,  7.17it/s]\n",
      "100%|██████████| 5/5 [00:00<00:00, 23.97it/s]\n"
     ]
    },
    {
     "name": "stdout",
     "output_type": "stream",
     "text": [
      "FID score for |dataset/dog| -> |Prompt_Images/Dreambooth/dog/dog_sunset| : 174.79761776799165\n"
     ]
    }
   ],
   "source": [
    "# fid score\n",
    "real_img_dir = \"dataset/dog\"\n",
    "gen_img_dir = f\"{output_dir}/{output_subdir}\"\n",
    "print(\"Real Images:\", len(os.listdir(real_img_dir)))\n",
    "print(\"Generated Images:\", len(os.listdir(gen_img_dir)))\n",
    "\n",
    "resize_images(real_img_dir)\n",
    "# resize images in gen\n",
    "resize_images(gen_img_dir)\n",
    "\n",
    "\n",
    "# calculate fid score\n",
    "fid_score_val = fid_score_calc(real_img_dir,gen_img_dir)\n",
    "\n",
    "print(f\"FID score for |{real_img_dir}| -> |{gen_img_dir}| : {fid_score_val}\")"
   ]
  },
  {
   "cell_type": "code",
   "execution_count": null,
   "metadata": {},
   "outputs": [],
   "source": [
    "# test for 1 img\n",
    "num_images = 1\n",
    "test_prompt = \"A photo of <dog>\"\n",
    "output_dir = \"Prompt_Images/test\"\n",
    "output_subdir = \"testing\"\n",
    "embeddings = \"embeddings/dreambooth/dog\"\n",
    "gen_images = generate_images(test_prompt,num_images,output_dir,output_subdir,embeddings=embeddings)\n",
    "\n"
   ]
  },
  {
   "cell_type": "markdown",
   "metadata": {},
   "source": [
    "3. **shiny_sneaker** class"
   ]
  },
  {
   "cell_type": "code",
   "execution_count": null,
   "metadata": {},
   "outputs": [],
   "source": [
    "dir = \"dataset/shiny_sneaker\"\n",
    "display_images_in_directory(dir)\n"
   ]
  },
  {
   "cell_type": "code",
   "execution_count": null,
   "metadata": {},
   "outputs": [],
   "source": [
    "num_images = 10\n",
    "output_dir = \"Prompt_Images/Dreambooth/shiny_sneaker\"\n",
    "prompt = \"A photo of <sneaker> on a reflective surface, studio lighting, high detail, 8k resolution\"\n",
    "output_subdir = \"sneaker_studio\"\n",
    "embeddings = \"embeddings/dreambooth/shiny_sneaker\"\n",
    "gen_images = generate_images(prompt,num_images,output_dir,output_subdir,embeddings=embeddings)\n",
    "# compute clip similarity\n",
    "similarity_score = compute_clip_similarity(gen_images,prompt)\n",
    "print(f\"Similarity score for |{output_dir}| -> |{output_subdir}| : {similarity_score}\")"
   ]
  },
  {
   "cell_type": "code",
   "execution_count": 9,
   "metadata": {},
   "outputs": [
    {
     "name": "stdout",
     "output_type": "stream",
     "text": [
      "Real Images: 6\n",
      "Generated Images: 10\n"
     ]
    },
    {
     "name": "stderr",
     "output_type": "stream",
     "text": [
      "100%|██████████| 3/3 [00:00<00:00,  5.63it/s]\n",
      "100%|██████████| 5/5 [00:00<00:00, 19.48it/s]\n"
     ]
    },
    {
     "name": "stdout",
     "output_type": "stream",
     "text": [
      "FID score for |dataset/shiny_sneaker| -> |Prompt_Images/Dreambooth/shiny_sneaker/sneaker_studio| : 323.9680244701582\n"
     ]
    }
   ],
   "source": [
    "# fid score\n",
    "real_img_dir = \"dataset/shiny_sneaker\"  \n",
    "gen_img_dir = f\"{output_dir}/{output_subdir}\"\n",
    "print(\"Real Images:\", len(os.listdir(real_img_dir)))\n",
    "print(\"Generated Images:\", len(os.listdir(gen_img_dir)))\n",
    "# resize images in real\n",
    "resize_images(real_img_dir)\n",
    "# resize images in gen\n",
    "resize_images(gen_img_dir)\n",
    "# calculate fid score\n",
    "fid_score_val = fid_score_calc(real_img_dir,gen_img_dir)\n",
    "print(f\"FID score for |{real_img_dir}| -> |{gen_img_dir}| : {fid_score_val}\")"
   ]
  },
  {
   "cell_type": "markdown",
   "metadata": {},
   "source": [
    "4. **pink_sunglasses** class"
   ]
  },
  {
   "cell_type": "code",
   "execution_count": null,
   "metadata": {},
   "outputs": [],
   "source": [
    "dir = \"dataset/pink_sunglasses\"\n",
    "display_images_in_directory(dir)"
   ]
  },
  {
   "cell_type": "code",
   "execution_count": null,
   "metadata": {},
   "outputs": [],
   "source": [
    "num_images = 10\n",
    "output_dir = \"Prompt_Images/Dreambooth/pink_sunglasses\"\n",
    "prompt = \"A pink <sunglasses> on a soft silk fabric, aesthetic and elegant.\"\n",
    "output_subdir = \"sunglasses_silk\"\n",
    "embeddings = \"embeddings/dreambooth/pink_sunglasses\"\n",
    "gen_images = generate_images(prompt,num_images,output_dir,output_subdir,embeddings=embeddings)\n",
    "# compute clip similarity\n",
    "similarity_score = compute_clip_similarity(gen_images,prompt)\n",
    "print(f\"Similarity score for |{output_dir}| -> |{output_subdir}| : {similarity_score}\")"
   ]
  },
  {
   "cell_type": "code",
   "execution_count": null,
   "metadata": {},
   "outputs": [
    {
     "name": "stdout",
     "output_type": "stream",
     "text": [
      "Real Images: 6\n",
      "Generated Images: 10\n"
     ]
    },
    {
     "name": "stderr",
     "output_type": "stream",
     "text": [
      "100%|██████████| 3/3 [00:00<00:00, 14.83it/s]\n",
      "100%|██████████| 5/5 [00:00<00:00, 24.33it/s]\n"
     ]
    },
    {
     "name": "stdout",
     "output_type": "stream",
     "text": [
      "FID score for |dataset/pink_sunglasses| -> |Prompt_Images/Dreambooth/pink_sunglasses/sunglasses_silk| : 303.30047267339734\n"
     ]
    },
    {
     "ename": "",
     "evalue": "",
     "output_type": "error",
     "traceback": [
      "\u001b[1;31mThe Kernel crashed while executing code in the current cell or a previous cell. \n",
      "\u001b[1;31mPlease review the code in the cell(s) to identify a possible cause of the failure. \n",
      "\u001b[1;31mClick <a href='https://aka.ms/vscodeJupyterKernelCrash'>here</a> for more info. \n",
      "\u001b[1;31mView Jupyter <a href='command:jupyter.viewOutput'>log</a> for further details."
     ]
    }
   ],
   "source": [
    "# fid score\n",
    "real_img_dir = \"dataset/pink_sunglasses\"\n",
    "gen_img_dir = f\"{output_dir}/{output_subdir}\"\n",
    "print(\"Real Images:\", len(os.listdir(real_img_dir)))\n",
    "print(\"Generated Images:\", len(os.listdir(gen_img_dir)))\n",
    "# resize images in real\n",
    "resize_images(real_img_dir)\n",
    "# resize images in gen\n",
    "resize_images(gen_img_dir)\n",
    "# calculate fid score\n",
    "fid_score_val = fid_score_calc(real_img_dir,gen_img_dir)\n",
    "print(f\"FID score for |{real_img_dir}| -> |{gen_img_dir}| : {fid_score_val}\")"
   ]
  },
  {
   "cell_type": "code",
   "execution_count": null,
   "metadata": {},
   "outputs": [],
   "source": [
    "num_images = 10\n",
    "output_dir = \"Prompt_Images/Dreambooth/pink_sunglasses\"\n",
    "\n",
    "prompt = \"A pair of elegant pink <sunglasses> resting on a marble countertop, surrounded by soft natural light.\"\n",
    "output_subdir = \"sunglasses_marble\"\n",
    "embeddings = \"embeddings/dreambooth/pink_sunglasses\"\n",
    "gen_images = generate_images(prompt,num_images,output_dir,output_subdir,embeddings=embeddings)\n",
    "# compute clip similarity\n",
    "similarity_score = compute_clip_similarity(gen_images,prompt)\n",
    "print(f\"Similarity score for |{output_dir}| -> |{output_subdir}| : {similarity_score}\")"
   ]
  },
  {
   "cell_type": "code",
   "execution_count": null,
   "metadata": {},
   "outputs": [],
   "source": [
    "gen_img_dir = f\"{output_dir}/{output_subdir}\"\n",
    "display_gen_imgs(gen_img_dir)"
   ]
  },
  {
   "cell_type": "code",
   "execution_count": 23,
   "metadata": {},
   "outputs": [
    {
     "name": "stdout",
     "output_type": "stream",
     "text": [
      "Real Images: 6\n",
      "Generated Images: 10\n"
     ]
    },
    {
     "name": "stderr",
     "output_type": "stream",
     "text": [
      "100%|██████████| 3/3 [00:00<00:00,  7.82it/s]\n",
      "100%|██████████| 5/5 [00:00<00:00, 14.94it/s]\n"
     ]
    },
    {
     "name": "stdout",
     "output_type": "stream",
     "text": [
      "FID score for |dataset/pink_sunglasses| -> |Prompt_Images/Dreambooth/pink_sunglasses/sunglasses_marble| : 233.4216257075353\n"
     ]
    }
   ],
   "source": [
    "# fid score\n",
    "real_img_dir = \"dataset/pink_sunglasses\"\n",
    "gen_img_dir = f\"{output_dir}/{output_subdir}\"\n",
    "print(\"Real Images:\", len(os.listdir(real_img_dir)))\n",
    "print(\"Generated Images:\", len(os.listdir(gen_img_dir)))\n",
    "# resize images in real\n",
    "resize_images(real_img_dir)\n",
    "# resize images in gen\n",
    "resize_images(gen_img_dir)\n",
    "# calculate fid score\n",
    "fid_score_val = fid_score_calc(real_img_dir,gen_img_dir)\n",
    "print(f\"FID score for |{real_img_dir}| -> |{gen_img_dir}| : {fid_score_val}\")\n"
   ]
  },
  {
   "cell_type": "code",
   "execution_count": 9,
   "metadata": {},
   "outputs": [
    {
     "data": {
      "application/vnd.jupyter.widget-view+json": {
       "model_id": "e8c525aa5db74e81b96795cf1095b322",
       "version_major": 2,
       "version_minor": 0
      },
      "text/plain": [
       "Loading pipeline components...:   0%|          | 0/7 [00:00<?, ?it/s]"
      ]
     },
     "metadata": {},
     "output_type": "display_data"
    },
    {
     "data": {
      "application/vnd.jupyter.widget-view+json": {
       "model_id": "a9bb32748dab4112a8d95bf6286eeeba",
       "version_major": 2,
       "version_minor": 0
      },
      "text/plain": [
       "  0%|          | 0/50 [00:00<?, ?it/s]"
      ]
     },
     "metadata": {},
     "output_type": "display_data"
    },
    {
     "name": "stdout",
     "output_type": "stream",
     "text": [
      "Image 0 saved.\n"
     ]
    },
    {
     "data": {
      "application/vnd.jupyter.widget-view+json": {
       "model_id": "47caac1323c74fe3b8e0a651f72074ec",
       "version_major": 2,
       "version_minor": 0
      },
      "text/plain": [
       "  0%|          | 0/50 [00:00<?, ?it/s]"
      ]
     },
     "metadata": {},
     "output_type": "display_data"
    },
    {
     "name": "stdout",
     "output_type": "stream",
     "text": [
      "Image 1 saved.\n"
     ]
    },
    {
     "data": {
      "application/vnd.jupyter.widget-view+json": {
       "model_id": "4b8d250828bf4d8d91bac3873fdf10a7",
       "version_major": 2,
       "version_minor": 0
      },
      "text/plain": [
       "  0%|          | 0/50 [00:00<?, ?it/s]"
      ]
     },
     "metadata": {},
     "output_type": "display_data"
    },
    {
     "name": "stdout",
     "output_type": "stream",
     "text": [
      "Image 2 saved.\n"
     ]
    },
    {
     "data": {
      "application/vnd.jupyter.widget-view+json": {
       "model_id": "2b190ed89d774dff9db6c5c8d50a6c6a",
       "version_major": 2,
       "version_minor": 0
      },
      "text/plain": [
       "  0%|          | 0/50 [00:00<?, ?it/s]"
      ]
     },
     "metadata": {},
     "output_type": "display_data"
    },
    {
     "name": "stdout",
     "output_type": "stream",
     "text": [
      "Image 3 saved.\n"
     ]
    },
    {
     "data": {
      "application/vnd.jupyter.widget-view+json": {
       "model_id": "8c00e7edcd0843739e96713a7c24786f",
       "version_major": 2,
       "version_minor": 0
      },
      "text/plain": [
       "  0%|          | 0/50 [00:00<?, ?it/s]"
      ]
     },
     "metadata": {},
     "output_type": "display_data"
    },
    {
     "name": "stdout",
     "output_type": "stream",
     "text": [
      "Image 4 saved.\n"
     ]
    },
    {
     "data": {
      "application/vnd.jupyter.widget-view+json": {
       "model_id": "1c68478d3fc4478486693f9bfbca03c3",
       "version_major": 2,
       "version_minor": 0
      },
      "text/plain": [
       "  0%|          | 0/50 [00:00<?, ?it/s]"
      ]
     },
     "metadata": {},
     "output_type": "display_data"
    },
    {
     "name": "stdout",
     "output_type": "stream",
     "text": [
      "Image 5 saved.\n"
     ]
    },
    {
     "data": {
      "application/vnd.jupyter.widget-view+json": {
       "model_id": "1bfc3d1d98d34b4b97f5e829bff8122e",
       "version_major": 2,
       "version_minor": 0
      },
      "text/plain": [
       "  0%|          | 0/50 [00:00<?, ?it/s]"
      ]
     },
     "metadata": {},
     "output_type": "display_data"
    },
    {
     "name": "stdout",
     "output_type": "stream",
     "text": [
      "Image 6 saved.\n"
     ]
    },
    {
     "data": {
      "application/vnd.jupyter.widget-view+json": {
       "model_id": "4439f6a0dbc14f5b907e1a4c4f08b3e8",
       "version_major": 2,
       "version_minor": 0
      },
      "text/plain": [
       "  0%|          | 0/50 [00:00<?, ?it/s]"
      ]
     },
     "metadata": {},
     "output_type": "display_data"
    },
    {
     "name": "stdout",
     "output_type": "stream",
     "text": [
      "Image 7 saved.\n"
     ]
    },
    {
     "data": {
      "application/vnd.jupyter.widget-view+json": {
       "model_id": "3fc03fb90b4c461a99fc7cda7f95540a",
       "version_major": 2,
       "version_minor": 0
      },
      "text/plain": [
       "  0%|          | 0/50 [00:00<?, ?it/s]"
      ]
     },
     "metadata": {},
     "output_type": "display_data"
    },
    {
     "name": "stdout",
     "output_type": "stream",
     "text": [
      "Image 8 saved.\n"
     ]
    },
    {
     "data": {
      "application/vnd.jupyter.widget-view+json": {
       "model_id": "b6c9aa6263ae446c8fc3fd1d021c0ac2",
       "version_major": 2,
       "version_minor": 0
      },
      "text/plain": [
       "  0%|          | 0/50 [00:00<?, ?it/s]"
      ]
     },
     "metadata": {},
     "output_type": "display_data"
    },
    {
     "name": "stdout",
     "output_type": "stream",
     "text": [
      "Image 9 saved.\n",
      "Similarity score for |Prompt_Images/Dreambooth/pink_sunglasses| -> |sunglasses_SmallPrompt| : 0.3276123046875\n",
      "Real Images: 6\n",
      "Generated Images: 10\n"
     ]
    },
    {
     "name": "stderr",
     "output_type": "stream",
     "text": [
      "100%|██████████| 3/3 [00:00<00:00, 15.11it/s]\n",
      "100%|██████████| 5/5 [00:00<00:00, 28.47it/s]\n"
     ]
    },
    {
     "name": "stdout",
     "output_type": "stream",
     "text": [
      "FID score for |dataset/pink_sunglasses| -> |Prompt_Images/Dreambooth/pink_sunglasses/sunglasses_SmallPrompt| : 217.3298576083401\n"
     ]
    }
   ],
   "source": [
    "# try with smaller prompt\n",
    "num_images = 10\n",
    "output_dir = \"Prompt_Images/Dreambooth/pink_sunglasses\"\n",
    "prompt = \"A photo of pink <sunglasses>\"\n",
    "output_subdir = \"sunglasses_SmallPrompt\"\n",
    "embeddings = \"embeddings/dreambooth/pink_sunglasses\"\n",
    "gen_images = generate_images(prompt,num_images,output_dir,output_subdir,embeddings=embeddings)\n",
    "# compute clip similarity\n",
    "similarity_score = compute_clip_similarity(gen_images,prompt)\n",
    "print(f\"Similarity score for |{output_dir}| -> |{output_subdir}| : {similarity_score}\")\n",
    "# fid score\n",
    "real_img_dir = \"dataset/pink_sunglasses\"\n",
    "gen_img_dir = f\"{output_dir}/{output_subdir}\"\n",
    "print(\"Real Images:\", len(os.listdir(real_img_dir)))\n",
    "print(\"Generated Images:\", len(os.listdir(gen_img_dir)))\n",
    "# resize images in real\n",
    "resize_images(real_img_dir)\n",
    "# resize images in gen\n",
    "resize_images(gen_img_dir)\n",
    "# calculate fid score\n",
    "fid_score_val = fid_score_calc(real_img_dir,gen_img_dir)\n",
    "print(f\"FID score for |{real_img_dir}| -> |{gen_img_dir}| : {fid_score_val}\")\n",
    "\n"
   ]
  },
  {
   "cell_type": "code",
   "execution_count": null,
   "metadata": {},
   "outputs": [],
   "source": [
    "\n",
    "# display generated images\n",
    "gen_img_dir = f\"{output_dir}/{output_subdir}\"\n",
    "display_gen_imgs(gen_img_dir)"
   ]
  },
  {
   "cell_type": "code",
   "execution_count": 11,
   "metadata": {},
   "outputs": [
    {
     "data": {
      "application/vnd.jupyter.widget-view+json": {
       "model_id": "ff1d06e02484471e830e71bfceae9323",
       "version_major": 2,
       "version_minor": 0
      },
      "text/plain": [
       "Loading pipeline components...:   0%|          | 0/7 [00:00<?, ?it/s]"
      ]
     },
     "metadata": {},
     "output_type": "display_data"
    },
    {
     "data": {
      "application/vnd.jupyter.widget-view+json": {
       "model_id": "2a4bd101861d4bee88cc6b8fd5202d6d",
       "version_major": 2,
       "version_minor": 0
      },
      "text/plain": [
       "  0%|          | 0/50 [00:00<?, ?it/s]"
      ]
     },
     "metadata": {},
     "output_type": "display_data"
    },
    {
     "name": "stdout",
     "output_type": "stream",
     "text": [
      "Image 0 saved.\n"
     ]
    },
    {
     "data": {
      "application/vnd.jupyter.widget-view+json": {
       "model_id": "e5589d37cdc74f5e9b6ee306976d23a3",
       "version_major": 2,
       "version_minor": 0
      },
      "text/plain": [
       "  0%|          | 0/50 [00:00<?, ?it/s]"
      ]
     },
     "metadata": {},
     "output_type": "display_data"
    },
    {
     "name": "stdout",
     "output_type": "stream",
     "text": [
      "Image 1 saved.\n"
     ]
    },
    {
     "data": {
      "application/vnd.jupyter.widget-view+json": {
       "model_id": "57e381896e0746c29b03e413d5fff3c0",
       "version_major": 2,
       "version_minor": 0
      },
      "text/plain": [
       "  0%|          | 0/50 [00:00<?, ?it/s]"
      ]
     },
     "metadata": {},
     "output_type": "display_data"
    },
    {
     "name": "stdout",
     "output_type": "stream",
     "text": [
      "Image 2 saved.\n"
     ]
    },
    {
     "data": {
      "application/vnd.jupyter.widget-view+json": {
       "model_id": "82338799341d4f328033e27356a27cdf",
       "version_major": 2,
       "version_minor": 0
      },
      "text/plain": [
       "  0%|          | 0/50 [00:00<?, ?it/s]"
      ]
     },
     "metadata": {},
     "output_type": "display_data"
    },
    {
     "name": "stdout",
     "output_type": "stream",
     "text": [
      "Image 3 saved.\n"
     ]
    },
    {
     "data": {
      "application/vnd.jupyter.widget-view+json": {
       "model_id": "9d99ff24e98545489ceeb9d5e90f08a2",
       "version_major": 2,
       "version_minor": 0
      },
      "text/plain": [
       "  0%|          | 0/50 [00:00<?, ?it/s]"
      ]
     },
     "metadata": {},
     "output_type": "display_data"
    },
    {
     "name": "stdout",
     "output_type": "stream",
     "text": [
      "Image 4 saved.\n"
     ]
    },
    {
     "data": {
      "application/vnd.jupyter.widget-view+json": {
       "model_id": "bfe90b15503f47b085f84a8908b73256",
       "version_major": 2,
       "version_minor": 0
      },
      "text/plain": [
       "  0%|          | 0/50 [00:00<?, ?it/s]"
      ]
     },
     "metadata": {},
     "output_type": "display_data"
    },
    {
     "name": "stdout",
     "output_type": "stream",
     "text": [
      "Image 5 saved.\n"
     ]
    },
    {
     "data": {
      "application/vnd.jupyter.widget-view+json": {
       "model_id": "5a4ef0ada6b0439ebc4a6603536d7081",
       "version_major": 2,
       "version_minor": 0
      },
      "text/plain": [
       "  0%|          | 0/50 [00:00<?, ?it/s]"
      ]
     },
     "metadata": {},
     "output_type": "display_data"
    },
    {
     "name": "stdout",
     "output_type": "stream",
     "text": [
      "Image 6 saved.\n"
     ]
    },
    {
     "data": {
      "application/vnd.jupyter.widget-view+json": {
       "model_id": "51ecf80314204ce3a098d831dd05d259",
       "version_major": 2,
       "version_minor": 0
      },
      "text/plain": [
       "  0%|          | 0/50 [00:00<?, ?it/s]"
      ]
     },
     "metadata": {},
     "output_type": "display_data"
    },
    {
     "name": "stdout",
     "output_type": "stream",
     "text": [
      "Image 7 saved.\n"
     ]
    },
    {
     "data": {
      "application/vnd.jupyter.widget-view+json": {
       "model_id": "1d6d6e101c7d4d01a81f8d852ebfd9ea",
       "version_major": 2,
       "version_minor": 0
      },
      "text/plain": [
       "  0%|          | 0/50 [00:00<?, ?it/s]"
      ]
     },
     "metadata": {},
     "output_type": "display_data"
    },
    {
     "name": "stdout",
     "output_type": "stream",
     "text": [
      "Image 8 saved.\n"
     ]
    },
    {
     "data": {
      "application/vnd.jupyter.widget-view+json": {
       "model_id": "38f973fb74604edd9219174b34258ab7",
       "version_major": 2,
       "version_minor": 0
      },
      "text/plain": [
       "  0%|          | 0/50 [00:00<?, ?it/s]"
      ]
     },
     "metadata": {},
     "output_type": "display_data"
    },
    {
     "name": "stdout",
     "output_type": "stream",
     "text": [
      "Image 9 saved.\n",
      "Similarity score for |Prompt_Images/Dreambooth/pink_sunglasses| -> |sunglasses_largePrompt| : 0.3738525390625\n",
      "Real Images: 6\n",
      "Generated Images: 10\n"
     ]
    },
    {
     "name": "stderr",
     "output_type": "stream",
     "text": [
      "100%|██████████| 3/3 [00:00<00:00, 20.30it/s]\n",
      "100%|██████████| 5/5 [00:00<00:00, 31.35it/s]\n"
     ]
    },
    {
     "name": "stdout",
     "output_type": "stream",
     "text": [
      "FID score for |dataset/pink_sunglasses| -> |Prompt_Images/Dreambooth/pink_sunglasses/sunglasses_largePrompt| : 338.8342017709151\n"
     ]
    }
   ],
   "source": [
    "# give larger prompt\n",
    "num_images = 10\n",
    "output_dir = \"Prompt_Images/Dreambooth/pink_sunglasses\"\n",
    "prompt = \"A pair of elegant pink <sunglasses> resting on a marble countertop, surrounded by soft natural light, with intricate reflections and shadows, showcasing a luxurious and modern aesthetic.\"\n",
    "output_subdir = \"sunglasses_largePrompt\"\n",
    "gen_images = generate_images(prompt, num_images, output_dir, output_subdir, embeddings=embeddings)\n",
    "similarity_score = compute_clip_similarity(gen_images, prompt)\n",
    "print(f\"Similarity score for |{output_dir}| -> |{output_subdir}| : {similarity_score}\")\n",
    "# fid score\n",
    "real_img_dir = \"dataset/pink_sunglasses\"\n",
    "gen_img_dir = f\"{output_dir}/{output_subdir}\"\n",
    "print(\"Real Images:\", len(os.listdir(real_img_dir)))\n",
    "print(\"Generated Images:\", len(os.listdir(gen_img_dir)))\n",
    "# resize images in real\n",
    "resize_images(real_img_dir)\n",
    "# resize images in gen\n",
    "resize_images(gen_img_dir)\n",
    "# calculate fid score\n",
    "fid_score_val = fid_score_calc(real_img_dir, gen_img_dir)\n",
    "print(f\"FID score for |{real_img_dir}| -> |{gen_img_dir}| : {fid_score_val}\")"
   ]
  },
  {
   "cell_type": "code",
   "execution_count": null,
   "metadata": {},
   "outputs": [],
   "source": [
    "# display images in a directory\n",
    "gen_img_dir = f\"{output_dir}/{output_subdir}\"\n",
    "display_gen_imgs(gen_img_dir)"
   ]
  },
  {
   "cell_type": "code",
   "execution_count": 13,
   "metadata": {
    "vscode": {
     "languageId": "ruby"
    }
   },
   "outputs": [
    {
     "data": {
      "application/vnd.jupyter.widget-view+json": {
       "model_id": "06ce0c9e743c4fa5bf09c2fa5db1a358",
       "version_major": 2,
       "version_minor": 0
      },
      "text/plain": [
       "Loading pipeline components...:   0%|          | 0/7 [00:00<?, ?it/s]"
      ]
     },
     "metadata": {},
     "output_type": "display_data"
    },
    {
     "data": {
      "application/vnd.jupyter.widget-view+json": {
       "model_id": "d0b7d856a3b243c28d8b8c48ed741f9a",
       "version_major": 2,
       "version_minor": 0
      },
      "text/plain": [
       "  0%|          | 0/50 [00:00<?, ?it/s]"
      ]
     },
     "metadata": {},
     "output_type": "display_data"
    },
    {
     "name": "stdout",
     "output_type": "stream",
     "text": [
      "Image 0 saved.\n"
     ]
    },
    {
     "data": {
      "application/vnd.jupyter.widget-view+json": {
       "model_id": "7b6c033136564901a459dca2bf0c5f0f",
       "version_major": 2,
       "version_minor": 0
      },
      "text/plain": [
       "  0%|          | 0/50 [00:00<?, ?it/s]"
      ]
     },
     "metadata": {},
     "output_type": "display_data"
    },
    {
     "name": "stdout",
     "output_type": "stream",
     "text": [
      "Image 1 saved.\n"
     ]
    },
    {
     "data": {
      "application/vnd.jupyter.widget-view+json": {
       "model_id": "25d2c25e13064dc48d57524cba74ec15",
       "version_major": 2,
       "version_minor": 0
      },
      "text/plain": [
       "  0%|          | 0/50 [00:00<?, ?it/s]"
      ]
     },
     "metadata": {},
     "output_type": "display_data"
    },
    {
     "name": "stdout",
     "output_type": "stream",
     "text": [
      "Image 2 saved.\n"
     ]
    },
    {
     "data": {
      "application/vnd.jupyter.widget-view+json": {
       "model_id": "0132b9839c29454a8c3e676b4b0f6228",
       "version_major": 2,
       "version_minor": 0
      },
      "text/plain": [
       "  0%|          | 0/50 [00:00<?, ?it/s]"
      ]
     },
     "metadata": {},
     "output_type": "display_data"
    },
    {
     "name": "stdout",
     "output_type": "stream",
     "text": [
      "Image 3 saved.\n"
     ]
    },
    {
     "data": {
      "application/vnd.jupyter.widget-view+json": {
       "model_id": "94666ff05465477fb325a764a67b89ae",
       "version_major": 2,
       "version_minor": 0
      },
      "text/plain": [
       "  0%|          | 0/50 [00:00<?, ?it/s]"
      ]
     },
     "metadata": {},
     "output_type": "display_data"
    },
    {
     "name": "stdout",
     "output_type": "stream",
     "text": [
      "Image 4 saved.\n"
     ]
    },
    {
     "data": {
      "application/vnd.jupyter.widget-view+json": {
       "model_id": "b67720cfd74a49e0a586e725de09d198",
       "version_major": 2,
       "version_minor": 0
      },
      "text/plain": [
       "  0%|          | 0/50 [00:00<?, ?it/s]"
      ]
     },
     "metadata": {},
     "output_type": "display_data"
    },
    {
     "name": "stdout",
     "output_type": "stream",
     "text": [
      "Image 5 saved.\n"
     ]
    },
    {
     "data": {
      "application/vnd.jupyter.widget-view+json": {
       "model_id": "7daf70a904864f369f8c4ee038006c43",
       "version_major": 2,
       "version_minor": 0
      },
      "text/plain": [
       "  0%|          | 0/50 [00:00<?, ?it/s]"
      ]
     },
     "metadata": {},
     "output_type": "display_data"
    },
    {
     "name": "stdout",
     "output_type": "stream",
     "text": [
      "Image 6 saved.\n"
     ]
    },
    {
     "data": {
      "application/vnd.jupyter.widget-view+json": {
       "model_id": "4df522713d2f40fda79a56198936f859",
       "version_major": 2,
       "version_minor": 0
      },
      "text/plain": [
       "  0%|          | 0/50 [00:00<?, ?it/s]"
      ]
     },
     "metadata": {},
     "output_type": "display_data"
    },
    {
     "name": "stderr",
     "output_type": "stream",
     "text": [
      "Potential NSFW content was detected in one or more images. A black image will be returned instead. Try again with a different prompt and/or seed.\n"
     ]
    },
    {
     "name": "stdout",
     "output_type": "stream",
     "text": [
      "Image 7 saved.\n"
     ]
    },
    {
     "data": {
      "application/vnd.jupyter.widget-view+json": {
       "model_id": "8e3e270345b74216a31f924751e51def",
       "version_major": 2,
       "version_minor": 0
      },
      "text/plain": [
       "  0%|          | 0/50 [00:00<?, ?it/s]"
      ]
     },
     "metadata": {},
     "output_type": "display_data"
    },
    {
     "name": "stdout",
     "output_type": "stream",
     "text": [
      "Image 8 saved.\n"
     ]
    },
    {
     "data": {
      "application/vnd.jupyter.widget-view+json": {
       "model_id": "530e30cc5fee416da42728421508346e",
       "version_major": 2,
       "version_minor": 0
      },
      "text/plain": [
       "  0%|          | 0/50 [00:00<?, ?it/s]"
      ]
     },
     "metadata": {},
     "output_type": "display_data"
    },
    {
     "name": "stdout",
     "output_type": "stream",
     "text": [
      "Image 9 saved.\n",
      "Similarity score for |Prompt_Images/Dreambooth/pink_sunglasses| -> |sunglasses_van_gogh_style| : 0.33604736328125\n"
     ]
    },
    {
     "name": "stderr",
     "output_type": "stream",
     "text": [
      "100%|██████████| 3/3 [00:00<00:00, 18.83it/s]\n",
      "100%|██████████| 5/5 [00:00<00:00, 34.29it/s]\n"
     ]
    },
    {
     "name": "stdout",
     "output_type": "stream",
     "text": [
      "FID score for |dataset/pink_sunglasses| -> |Prompt_Images/Dreambooth/pink_sunglasses/sunglasses_van_gogh_style| : 353.95346011633416\n"
     ]
    }
   ],
   "source": [
    "# Update the prompt to include the desired style\n",
    "prompt = \"A pair of elegant pink <sunglasses> in the style of Van Gogh's Starry Night, with swirling patterns and vibrant colors.\"\n",
    "\n",
    "# Generate images\n",
    "output_subdir = \"sunglasses_van_gogh_style\"\n",
    "gen_images = generate_images(prompt, num_images, output_dir, output_subdir, embeddings=embeddings)\n",
    "\n",
    "# Compute CLIP similarity\n",
    "similarity_score = compute_clip_similarity(gen_images, prompt)\n",
    "print(f\"Similarity score for |{output_dir}| -> |{output_subdir}| : {similarity_score}\")\n",
    "\n",
    "# Calculate FID score\n",
    "gen_img_dir = f\"{output_dir}/{output_subdir}\"\n",
    "resize_images(real_img_dir)\n",
    "resize_images(gen_img_dir)\n",
    "fid_score_val = fid_score_calc(real_img_dir, gen_img_dir)\n",
    "print(f\"FID score for |{real_img_dir}| -> |{gen_img_dir}| : {fid_score_val}\")"
   ]
  },
  {
   "cell_type": "code",
   "execution_count": null,
   "metadata": {
    "vscode": {
     "languageId": "ruby"
    }
   },
   "outputs": [],
   "source": [
    "# display images in a directory\n",
    "gen_img_dir = f\"{output_dir}/{output_subdir}\"\n",
    "display_gen_imgs(gen_img_dir)"
   ]
  },
  {
   "cell_type": "code",
   "execution_count": 15,
   "metadata": {},
   "outputs": [
    {
     "data": {
      "application/vnd.jupyter.widget-view+json": {
       "model_id": "452a409bd0fa4a67b84c3c4abfb9b3d0",
       "version_major": 2,
       "version_minor": 0
      },
      "text/plain": [
       "Loading pipeline components...:   0%|          | 0/7 [00:00<?, ?it/s]"
      ]
     },
     "metadata": {},
     "output_type": "display_data"
    },
    {
     "data": {
      "application/vnd.jupyter.widget-view+json": {
       "model_id": "482b162fc11d4662b63d01b5c640925c",
       "version_major": 2,
       "version_minor": 0
      },
      "text/plain": [
       "  0%|          | 0/50 [00:00<?, ?it/s]"
      ]
     },
     "metadata": {},
     "output_type": "display_data"
    },
    {
     "name": "stdout",
     "output_type": "stream",
     "text": [
      "Image 0 saved.\n"
     ]
    },
    {
     "data": {
      "application/vnd.jupyter.widget-view+json": {
       "model_id": "f073a016568841e2979d215d002f397d",
       "version_major": 2,
       "version_minor": 0
      },
      "text/plain": [
       "  0%|          | 0/50 [00:00<?, ?it/s]"
      ]
     },
     "metadata": {},
     "output_type": "display_data"
    },
    {
     "name": "stdout",
     "output_type": "stream",
     "text": [
      "Image 1 saved.\n"
     ]
    },
    {
     "data": {
      "application/vnd.jupyter.widget-view+json": {
       "model_id": "af197e32b9984fd19bdb40be1073d73e",
       "version_major": 2,
       "version_minor": 0
      },
      "text/plain": [
       "  0%|          | 0/50 [00:00<?, ?it/s]"
      ]
     },
     "metadata": {},
     "output_type": "display_data"
    },
    {
     "name": "stdout",
     "output_type": "stream",
     "text": [
      "Image 2 saved.\n"
     ]
    },
    {
     "data": {
      "application/vnd.jupyter.widget-view+json": {
       "model_id": "20f39fe179b44eb18efe83129be64c46",
       "version_major": 2,
       "version_minor": 0
      },
      "text/plain": [
       "  0%|          | 0/50 [00:00<?, ?it/s]"
      ]
     },
     "metadata": {},
     "output_type": "display_data"
    },
    {
     "name": "stdout",
     "output_type": "stream",
     "text": [
      "Image 3 saved.\n"
     ]
    },
    {
     "data": {
      "application/vnd.jupyter.widget-view+json": {
       "model_id": "9551878e50344a8184d7b9bcf641126c",
       "version_major": 2,
       "version_minor": 0
      },
      "text/plain": [
       "  0%|          | 0/50 [00:00<?, ?it/s]"
      ]
     },
     "metadata": {},
     "output_type": "display_data"
    },
    {
     "name": "stdout",
     "output_type": "stream",
     "text": [
      "Image 4 saved.\n"
     ]
    },
    {
     "data": {
      "application/vnd.jupyter.widget-view+json": {
       "model_id": "ac1983ffc7b84197b42c00b000443dbb",
       "version_major": 2,
       "version_minor": 0
      },
      "text/plain": [
       "  0%|          | 0/50 [00:00<?, ?it/s]"
      ]
     },
     "metadata": {},
     "output_type": "display_data"
    },
    {
     "name": "stdout",
     "output_type": "stream",
     "text": [
      "Image 5 saved.\n"
     ]
    },
    {
     "data": {
      "application/vnd.jupyter.widget-view+json": {
       "model_id": "a629fc267a4641c881cfa8897e0ca6db",
       "version_major": 2,
       "version_minor": 0
      },
      "text/plain": [
       "  0%|          | 0/50 [00:00<?, ?it/s]"
      ]
     },
     "metadata": {},
     "output_type": "display_data"
    },
    {
     "name": "stdout",
     "output_type": "stream",
     "text": [
      "Image 6 saved.\n"
     ]
    },
    {
     "data": {
      "application/vnd.jupyter.widget-view+json": {
       "model_id": "3e45f90e7d0e48d9a5d0074cbcb49a0b",
       "version_major": 2,
       "version_minor": 0
      },
      "text/plain": [
       "  0%|          | 0/50 [00:00<?, ?it/s]"
      ]
     },
     "metadata": {},
     "output_type": "display_data"
    },
    {
     "name": "stdout",
     "output_type": "stream",
     "text": [
      "Image 7 saved.\n"
     ]
    },
    {
     "data": {
      "application/vnd.jupyter.widget-view+json": {
       "model_id": "6ca86b5338d0405eab5d0050d01dcb3c",
       "version_major": 2,
       "version_minor": 0
      },
      "text/plain": [
       "  0%|          | 0/50 [00:00<?, ?it/s]"
      ]
     },
     "metadata": {},
     "output_type": "display_data"
    },
    {
     "name": "stdout",
     "output_type": "stream",
     "text": [
      "Image 8 saved.\n"
     ]
    },
    {
     "data": {
      "application/vnd.jupyter.widget-view+json": {
       "model_id": "1ccdb83a38aa42bcb8961730aedfb183",
       "version_major": 2,
       "version_minor": 0
      },
      "text/plain": [
       "  0%|          | 0/50 [00:00<?, ?it/s]"
      ]
     },
     "metadata": {},
     "output_type": "display_data"
    },
    {
     "name": "stdout",
     "output_type": "stream",
     "text": [
      "Image 9 saved.\n",
      "Similarity score for |Prompt_Images/Dreambooth/pink_sunglasses| -> |sunglasses_crochet| : 0.367138671875\n"
     ]
    },
    {
     "name": "stderr",
     "output_type": "stream",
     "text": [
      "100%|██████████| 3/3 [00:00<00:00, 17.00it/s]\n",
      "100%|██████████| 5/5 [00:00<00:00, 32.35it/s]\n"
     ]
    },
    {
     "name": "stdout",
     "output_type": "stream",
     "text": [
      "FID score for |dataset/pink_sunglasses| -> |Prompt_Images/Dreambooth/pink_sunglasses/sunglasses_crochet| : 281.76639330132843\n"
     ]
    }
   ],
   "source": [
    "# Experiment with a new prompt\n",
    "prompt = \"A crochet of pink <sunglasses>, intricately woven with fine threads, showcasing delicate craftsmanship and artistic flair.\"\n",
    "output_subdir = \"sunglasses_crochet\"\n",
    "gen_images = generate_images(prompt, num_images, output_dir, output_subdir, embeddings=embeddings)\n",
    "\n",
    "# Compute CLIP similarity\n",
    "similarity_score = compute_clip_similarity(gen_images, prompt)\n",
    "print(f\"Similarity score for |{output_dir}| -> |{output_subdir}| : {similarity_score}\")\n",
    "\n",
    "# Calculate FID score\n",
    "gen_img_dir = f\"{output_dir}/{output_subdir}\"\n",
    "resize_images(real_img_dir)\n",
    "resize_images(gen_img_dir)\n",
    "fid_score_val = fid_score_calc(real_img_dir, gen_img_dir)\n",
    "print(f\"FID score for |{real_img_dir}| -> |{gen_img_dir}| : {fid_score_val}\")"
   ]
  },
  {
   "cell_type": "code",
   "execution_count": null,
   "metadata": {},
   "outputs": [],
   "source": [
    "# display images \n",
    "gen_img_dir = f\"{output_dir}/{output_subdir}\"\n",
    "display_gen_imgs(gen_img_dir)"
   ]
  },
  {
   "cell_type": "markdown",
   "metadata": {},
   "source": [
    "5. grey_sloth_plushie"
   ]
  },
  {
   "cell_type": "code",
   "execution_count": 8,
   "metadata": {},
   "outputs": [
    {
     "data": {
      "application/vnd.jupyter.widget-view+json": {
       "model_id": "950eb04412894e619deed1850b1abf7d",
       "version_major": 2,
       "version_minor": 0
      },
      "text/plain": [
       "Loading pipeline components...:   0%|          | 0/7 [00:00<?, ?it/s]"
      ]
     },
     "metadata": {},
     "output_type": "display_data"
    },
    {
     "data": {
      "application/vnd.jupyter.widget-view+json": {
       "model_id": "73cea00a80e345d5a4c951bb452f28b0",
       "version_major": 2,
       "version_minor": 0
      },
      "text/plain": [
       "  0%|          | 0/50 [00:00<?, ?it/s]"
      ]
     },
     "metadata": {},
     "output_type": "display_data"
    },
    {
     "name": "stdout",
     "output_type": "stream",
     "text": [
      "Image 0 saved.\n"
     ]
    },
    {
     "data": {
      "application/vnd.jupyter.widget-view+json": {
       "model_id": "468d06c6e109464cb11d62119e70c115",
       "version_major": 2,
       "version_minor": 0
      },
      "text/plain": [
       "  0%|          | 0/50 [00:00<?, ?it/s]"
      ]
     },
     "metadata": {},
     "output_type": "display_data"
    },
    {
     "name": "stdout",
     "output_type": "stream",
     "text": [
      "Image 1 saved.\n"
     ]
    },
    {
     "data": {
      "application/vnd.jupyter.widget-view+json": {
       "model_id": "9c99e98b9483488ebf2bcacb85c4759f",
       "version_major": 2,
       "version_minor": 0
      },
      "text/plain": [
       "  0%|          | 0/50 [00:00<?, ?it/s]"
      ]
     },
     "metadata": {},
     "output_type": "display_data"
    },
    {
     "name": "stdout",
     "output_type": "stream",
     "text": [
      "Image 2 saved.\n"
     ]
    },
    {
     "data": {
      "application/vnd.jupyter.widget-view+json": {
       "model_id": "4428961cbdbb40b9a5146f8fad441744",
       "version_major": 2,
       "version_minor": 0
      },
      "text/plain": [
       "  0%|          | 0/50 [00:00<?, ?it/s]"
      ]
     },
     "metadata": {},
     "output_type": "display_data"
    },
    {
     "name": "stdout",
     "output_type": "stream",
     "text": [
      "Image 3 saved.\n"
     ]
    },
    {
     "data": {
      "application/vnd.jupyter.widget-view+json": {
       "model_id": "cad77ad984ab4c96b42bffdeb559f6c6",
       "version_major": 2,
       "version_minor": 0
      },
      "text/plain": [
       "  0%|          | 0/50 [00:00<?, ?it/s]"
      ]
     },
     "metadata": {},
     "output_type": "display_data"
    },
    {
     "name": "stdout",
     "output_type": "stream",
     "text": [
      "Image 4 saved.\n"
     ]
    },
    {
     "data": {
      "application/vnd.jupyter.widget-view+json": {
       "model_id": "f1cb268ff5974cccb205988438631a6e",
       "version_major": 2,
       "version_minor": 0
      },
      "text/plain": [
       "  0%|          | 0/50 [00:00<?, ?it/s]"
      ]
     },
     "metadata": {},
     "output_type": "display_data"
    },
    {
     "name": "stdout",
     "output_type": "stream",
     "text": [
      "Image 5 saved.\n"
     ]
    },
    {
     "data": {
      "application/vnd.jupyter.widget-view+json": {
       "model_id": "b5c4408a4a454ec399a163d8f2ca6652",
       "version_major": 2,
       "version_minor": 0
      },
      "text/plain": [
       "  0%|          | 0/50 [00:00<?, ?it/s]"
      ]
     },
     "metadata": {},
     "output_type": "display_data"
    },
    {
     "name": "stdout",
     "output_type": "stream",
     "text": [
      "Image 6 saved.\n"
     ]
    },
    {
     "data": {
      "application/vnd.jupyter.widget-view+json": {
       "model_id": "e3aa24fed17642a2af7b9a34c655b112",
       "version_major": 2,
       "version_minor": 0
      },
      "text/plain": [
       "  0%|          | 0/50 [00:00<?, ?it/s]"
      ]
     },
     "metadata": {},
     "output_type": "display_data"
    },
    {
     "name": "stdout",
     "output_type": "stream",
     "text": [
      "Image 7 saved.\n"
     ]
    },
    {
     "data": {
      "application/vnd.jupyter.widget-view+json": {
       "model_id": "6afa0ca70aeb4c5894c16f1b6f1dda9f",
       "version_major": 2,
       "version_minor": 0
      },
      "text/plain": [
       "  0%|          | 0/50 [00:00<?, ?it/s]"
      ]
     },
     "metadata": {},
     "output_type": "display_data"
    },
    {
     "name": "stdout",
     "output_type": "stream",
     "text": [
      "Image 8 saved.\n"
     ]
    },
    {
     "data": {
      "application/vnd.jupyter.widget-view+json": {
       "model_id": "53715e6795f14463826102d324d01723",
       "version_major": 2,
       "version_minor": 0
      },
      "text/plain": [
       "  0%|          | 0/50 [00:00<?, ?it/s]"
      ]
     },
     "metadata": {},
     "output_type": "display_data"
    },
    {
     "name": "stdout",
     "output_type": "stream",
     "text": [
      "Image 9 saved.\n",
      "Similarity score for |Prompt_Images/Dreambooth/grey_sloth_plushie| -> |sloth_plushie_smallPrompt| : 0.351904296875\n",
      "Real Images: 5\n",
      "Generated Images: 10\n"
     ]
    },
    {
     "name": "stderr",
     "output_type": "stream",
     "text": [
      "100%|██████████| 3/3 [00:00<00:00,  3.93it/s]\n",
      "100%|██████████| 5/5 [00:00<00:00, 16.01it/s]\n"
     ]
    },
    {
     "name": "stdout",
     "output_type": "stream",
     "text": [
      "FID score for |dataset/grey_sloth_plushie| -> |Prompt_Images/Dreambooth/grey_sloth_plushie/sloth_plushie_smallPrompt| : 210.3725453370102\n"
     ]
    }
   ],
   "source": [
    "num_images = 10\n",
    "output_dir = \"Prompt_Images/Dreambooth/grey_sloth_plushie\"\n",
    "# small prompt\n",
    "prompt = \"A photo of a grey <sloth plushie>\"\n",
    "output_subdir = \"sloth_plushie_smallPrompt\"\n",
    "embeddings = \"embeddings/dreambooth/grey_sloth_plushie\"\n",
    "gen_images = generate_images(prompt,num_images,output_dir,output_subdir,embeddings=embeddings)\n",
    "# compute clip similarity\n",
    "similarity_score = compute_clip_similarity(gen_images,prompt)\n",
    "print(f\"Similarity score for |{output_dir}| -> |{output_subdir}| : {similarity_score}\")\n",
    "# fid score\n",
    "real_img_dir = \"dataset/grey_sloth_plushie\"\n",
    "gen_img_dir = f\"{output_dir}/{output_subdir}\"\n",
    "print(\"Real Images:\", len(os.listdir(real_img_dir)))\n",
    "print(\"Generated Images:\", len(os.listdir(gen_img_dir)))\n",
    "# resize images in real\n",
    "resize_images(real_img_dir)\n",
    "# resize images in gen\n",
    "resize_images(gen_img_dir)\n",
    "# calculate fid score\n",
    "fid_score_val = fid_score_calc(real_img_dir,gen_img_dir)\n",
    "print(f\"FID score for |{real_img_dir}| -> |{gen_img_dir}| : {fid_score_val}\")"
   ]
  },
  {
   "cell_type": "code",
   "execution_count": null,
   "metadata": {},
   "outputs": [],
   "source": [
    "# display images in a directory\n",
    "gen_img_dir = f\"{output_dir}/{output_subdir}\"\n",
    "display_gen_imgs(gen_img_dir)"
   ]
  },
  {
   "cell_type": "code",
   "execution_count": 10,
   "metadata": {},
   "outputs": [
    {
     "data": {
      "application/vnd.jupyter.widget-view+json": {
       "model_id": "4d46112956254784b55d48d10e469dfa",
       "version_major": 2,
       "version_minor": 0
      },
      "text/plain": [
       "Loading pipeline components...:   0%|          | 0/7 [00:00<?, ?it/s]"
      ]
     },
     "metadata": {},
     "output_type": "display_data"
    },
    {
     "data": {
      "application/vnd.jupyter.widget-view+json": {
       "model_id": "869bd18e226948729ab08e8b884ceb80",
       "version_major": 2,
       "version_minor": 0
      },
      "text/plain": [
       "  0%|          | 0/50 [00:00<?, ?it/s]"
      ]
     },
     "metadata": {},
     "output_type": "display_data"
    },
    {
     "name": "stdout",
     "output_type": "stream",
     "text": [
      "Image 0 saved.\n"
     ]
    },
    {
     "data": {
      "application/vnd.jupyter.widget-view+json": {
       "model_id": "9e6859bde7ea49d4a3226cdf74602a24",
       "version_major": 2,
       "version_minor": 0
      },
      "text/plain": [
       "  0%|          | 0/50 [00:00<?, ?it/s]"
      ]
     },
     "metadata": {},
     "output_type": "display_data"
    },
    {
     "name": "stdout",
     "output_type": "stream",
     "text": [
      "Image 1 saved.\n"
     ]
    },
    {
     "data": {
      "application/vnd.jupyter.widget-view+json": {
       "model_id": "dc0f5aa74a9e48bfbc244ce0f2f14dd3",
       "version_major": 2,
       "version_minor": 0
      },
      "text/plain": [
       "  0%|          | 0/50 [00:00<?, ?it/s]"
      ]
     },
     "metadata": {},
     "output_type": "display_data"
    },
    {
     "name": "stdout",
     "output_type": "stream",
     "text": [
      "Image 2 saved.\n"
     ]
    },
    {
     "data": {
      "application/vnd.jupyter.widget-view+json": {
       "model_id": "6d689a81e17e4890b35173b017212c47",
       "version_major": 2,
       "version_minor": 0
      },
      "text/plain": [
       "  0%|          | 0/50 [00:00<?, ?it/s]"
      ]
     },
     "metadata": {},
     "output_type": "display_data"
    },
    {
     "name": "stdout",
     "output_type": "stream",
     "text": [
      "Image 3 saved.\n"
     ]
    },
    {
     "data": {
      "application/vnd.jupyter.widget-view+json": {
       "model_id": "d825c728baab418a86b3d50dfb59f735",
       "version_major": 2,
       "version_minor": 0
      },
      "text/plain": [
       "  0%|          | 0/50 [00:00<?, ?it/s]"
      ]
     },
     "metadata": {},
     "output_type": "display_data"
    },
    {
     "name": "stdout",
     "output_type": "stream",
     "text": [
      "Image 4 saved.\n"
     ]
    },
    {
     "data": {
      "application/vnd.jupyter.widget-view+json": {
       "model_id": "72eb4ba1dae64248abcdc2bba55d1992",
       "version_major": 2,
       "version_minor": 0
      },
      "text/plain": [
       "  0%|          | 0/50 [00:00<?, ?it/s]"
      ]
     },
     "metadata": {},
     "output_type": "display_data"
    },
    {
     "name": "stdout",
     "output_type": "stream",
     "text": [
      "Image 5 saved.\n"
     ]
    },
    {
     "data": {
      "application/vnd.jupyter.widget-view+json": {
       "model_id": "f6f5eea6916647b9a0c12894527fa726",
       "version_major": 2,
       "version_minor": 0
      },
      "text/plain": [
       "  0%|          | 0/50 [00:00<?, ?it/s]"
      ]
     },
     "metadata": {},
     "output_type": "display_data"
    },
    {
     "name": "stdout",
     "output_type": "stream",
     "text": [
      "Image 6 saved.\n"
     ]
    },
    {
     "data": {
      "application/vnd.jupyter.widget-view+json": {
       "model_id": "90d69cd4999a4ea0ab905f04cbc3145e",
       "version_major": 2,
       "version_minor": 0
      },
      "text/plain": [
       "  0%|          | 0/50 [00:00<?, ?it/s]"
      ]
     },
     "metadata": {},
     "output_type": "display_data"
    },
    {
     "name": "stdout",
     "output_type": "stream",
     "text": [
      "Image 7 saved.\n"
     ]
    },
    {
     "data": {
      "application/vnd.jupyter.widget-view+json": {
       "model_id": "64456ca9922848688dc85690bab61b3d",
       "version_major": 2,
       "version_minor": 0
      },
      "text/plain": [
       "  0%|          | 0/50 [00:00<?, ?it/s]"
      ]
     },
     "metadata": {},
     "output_type": "display_data"
    },
    {
     "name": "stdout",
     "output_type": "stream",
     "text": [
      "Image 8 saved.\n"
     ]
    },
    {
     "data": {
      "application/vnd.jupyter.widget-view+json": {
       "model_id": "0232d9126a1b4699a2e61de1baf30ddc",
       "version_major": 2,
       "version_minor": 0
      },
      "text/plain": [
       "  0%|          | 0/50 [00:00<?, ?it/s]"
      ]
     },
     "metadata": {},
     "output_type": "display_data"
    },
    {
     "name": "stdout",
     "output_type": "stream",
     "text": [
      "Image 9 saved.\n",
      "Similarity score for |Prompt_Images/Dreambooth/grey_sloth_plushie| -> |sloth_plushie_largePrompt| : 0.3725341796875\n",
      "Real Images: 5\n",
      "Generated Images: 10\n"
     ]
    },
    {
     "name": "stderr",
     "output_type": "stream",
     "text": [
      "100%|██████████| 3/3 [00:00<00:00,  7.62it/s]\n",
      "100%|██████████| 5/5 [00:00<00:00, 15.64it/s]\n"
     ]
    },
    {
     "name": "stdout",
     "output_type": "stream",
     "text": [
      "FID score for |dataset/grey_sloth_plushie| -> |Prompt_Images/Dreambooth/grey_sloth_plushie/sloth_plushie_largePrompt| : 247.83467410673546\n"
     ]
    }
   ],
   "source": [
    "num_images = 10\n",
    "output_dir = \"Prompt_Images/Dreambooth/grey_sloth_plushie\"\n",
    "# larger prompt\n",
    "prompt = \"A cute grey sloth plushie <toy> sitting on a soft blanket, with big round eyes and a gentle smile, surrounded by colorful flowers.\"\n",
    "output_subdir = \"sloth_plushie_largePrompt\"\n",
    "embeddings = \"embeddings/dreambooth/grey_sloth_plushie\"\n",
    "gen_images = generate_images(prompt,num_images,output_dir,output_subdir,embeddings=embeddings)\n",
    "# compute clip similarity\n",
    "similarity_score = compute_clip_similarity(gen_images,prompt)\n",
    "print(f\"Similarity score for |{output_dir}| -> |{output_subdir}| : {similarity_score}\")\n",
    "# fid score\n",
    "real_img_dir = \"dataset/grey_sloth_plushie\"\n",
    "gen_img_dir = f\"{output_dir}/{output_subdir}\"\n",
    "print(\"Real Images:\", len(os.listdir(real_img_dir)))\n",
    "print(\"Generated Images:\", len(os.listdir(gen_img_dir)))\n",
    "# resize images in real\n",
    "resize_images(real_img_dir)\n",
    "# resize images in gen\n",
    "resize_images(gen_img_dir)\n",
    "# calculate fid score\n",
    "fid_score_val = fid_score_calc(real_img_dir,gen_img_dir)\n",
    "print(f\"FID score for |{real_img_dir}| -> |{gen_img_dir}| : {fid_score_val}\")"
   ]
  },
  {
   "cell_type": "code",
   "execution_count": null,
   "metadata": {},
   "outputs": [],
   "source": [
    "# display images in a directory\n",
    "gen_img_dir = f\"{output_dir}/{output_subdir}\"\n",
    "display_gen_imgs(gen_img_dir)"
   ]
  },
  {
   "cell_type": "code",
   "execution_count": 12,
   "metadata": {},
   "outputs": [
    {
     "data": {
      "application/vnd.jupyter.widget-view+json": {
       "model_id": "f003803c9ff0403d8588a5c8ed3ec89c",
       "version_major": 2,
       "version_minor": 0
      },
      "text/plain": [
       "Loading pipeline components...:   0%|          | 0/7 [00:00<?, ?it/s]"
      ]
     },
     "metadata": {},
     "output_type": "display_data"
    },
    {
     "data": {
      "application/vnd.jupyter.widget-view+json": {
       "model_id": "e81cbc5a06ca4bf9a85254fa71117ab3",
       "version_major": 2,
       "version_minor": 0
      },
      "text/plain": [
       "  0%|          | 0/50 [00:00<?, ?it/s]"
      ]
     },
     "metadata": {},
     "output_type": "display_data"
    },
    {
     "name": "stdout",
     "output_type": "stream",
     "text": [
      "Image 0 saved.\n"
     ]
    },
    {
     "data": {
      "application/vnd.jupyter.widget-view+json": {
       "model_id": "bf6fcd5696f84b9dafd67d727df98480",
       "version_major": 2,
       "version_minor": 0
      },
      "text/plain": [
       "  0%|          | 0/50 [00:00<?, ?it/s]"
      ]
     },
     "metadata": {},
     "output_type": "display_data"
    },
    {
     "name": "stdout",
     "output_type": "stream",
     "text": [
      "Image 1 saved.\n"
     ]
    },
    {
     "data": {
      "application/vnd.jupyter.widget-view+json": {
       "model_id": "877905c53e5643a2924c34c0063cc44e",
       "version_major": 2,
       "version_minor": 0
      },
      "text/plain": [
       "  0%|          | 0/50 [00:00<?, ?it/s]"
      ]
     },
     "metadata": {},
     "output_type": "display_data"
    },
    {
     "name": "stdout",
     "output_type": "stream",
     "text": [
      "Image 2 saved.\n"
     ]
    },
    {
     "data": {
      "application/vnd.jupyter.widget-view+json": {
       "model_id": "a22caf6174e348c69e4dd4c950e47d5c",
       "version_major": 2,
       "version_minor": 0
      },
      "text/plain": [
       "  0%|          | 0/50 [00:00<?, ?it/s]"
      ]
     },
     "metadata": {},
     "output_type": "display_data"
    },
    {
     "name": "stdout",
     "output_type": "stream",
     "text": [
      "Image 3 saved.\n"
     ]
    },
    {
     "data": {
      "application/vnd.jupyter.widget-view+json": {
       "model_id": "5cc7c61dd4ef4370bb044866e89f5d5f",
       "version_major": 2,
       "version_minor": 0
      },
      "text/plain": [
       "  0%|          | 0/50 [00:00<?, ?it/s]"
      ]
     },
     "metadata": {},
     "output_type": "display_data"
    },
    {
     "name": "stdout",
     "output_type": "stream",
     "text": [
      "Image 4 saved.\n"
     ]
    },
    {
     "data": {
      "application/vnd.jupyter.widget-view+json": {
       "model_id": "86aa61ee590548e2a869e40338eddd5d",
       "version_major": 2,
       "version_minor": 0
      },
      "text/plain": [
       "  0%|          | 0/50 [00:00<?, ?it/s]"
      ]
     },
     "metadata": {},
     "output_type": "display_data"
    },
    {
     "name": "stdout",
     "output_type": "stream",
     "text": [
      "Image 5 saved.\n"
     ]
    },
    {
     "data": {
      "application/vnd.jupyter.widget-view+json": {
       "model_id": "c1646ea3e8064abd987fd9454cfd365c",
       "version_major": 2,
       "version_minor": 0
      },
      "text/plain": [
       "  0%|          | 0/50 [00:00<?, ?it/s]"
      ]
     },
     "metadata": {},
     "output_type": "display_data"
    },
    {
     "name": "stdout",
     "output_type": "stream",
     "text": [
      "Image 6 saved.\n"
     ]
    },
    {
     "data": {
      "application/vnd.jupyter.widget-view+json": {
       "model_id": "8da874360f85402cbe1eb6456e2cef39",
       "version_major": 2,
       "version_minor": 0
      },
      "text/plain": [
       "  0%|          | 0/50 [00:00<?, ?it/s]"
      ]
     },
     "metadata": {},
     "output_type": "display_data"
    },
    {
     "name": "stdout",
     "output_type": "stream",
     "text": [
      "Image 7 saved.\n"
     ]
    },
    {
     "data": {
      "application/vnd.jupyter.widget-view+json": {
       "model_id": "2ee736d4c1184bf494636a0824606863",
       "version_major": 2,
       "version_minor": 0
      },
      "text/plain": [
       "  0%|          | 0/50 [00:00<?, ?it/s]"
      ]
     },
     "metadata": {},
     "output_type": "display_data"
    },
    {
     "name": "stdout",
     "output_type": "stream",
     "text": [
      "Image 8 saved.\n"
     ]
    },
    {
     "data": {
      "application/vnd.jupyter.widget-view+json": {
       "model_id": "50c5c48725dd4996ade976fdd3d07fff",
       "version_major": 2,
       "version_minor": 0
      },
      "text/plain": [
       "  0%|          | 0/50 [00:00<?, ?it/s]"
      ]
     },
     "metadata": {},
     "output_type": "display_data"
    },
    {
     "name": "stdout",
     "output_type": "stream",
     "text": [
      "Image 9 saved.\n",
      "Similarity score for |Prompt_Images/Dreambooth/grey_sloth_plushie| -> |sloth_plushie_crochet| : 0.3391357421875\n",
      "Real Images: 5\n",
      "Generated Images: 10\n"
     ]
    },
    {
     "name": "stderr",
     "output_type": "stream",
     "text": [
      "100%|██████████| 3/3 [00:00<00:00,  6.27it/s]\n",
      "100%|██████████| 5/5 [00:00<00:00, 13.34it/s]\n"
     ]
    },
    {
     "name": "stdout",
     "output_type": "stream",
     "text": [
      "FID score for |dataset/grey_sloth_plushie| -> |Prompt_Images/Dreambooth/grey_sloth_plushie/sloth_plushie_crochet| : 190.39434894538135\n"
     ]
    }
   ],
   "source": [
    "num_images = 10\n",
    "output_dir = \"Prompt_Images/Dreambooth/grey_sloth_plushie\"\n",
    "# grey sloth plushie in style of crochet\n",
    "prompt = \"A crochet of a grey sloth plushie <toy>, intricately woven with fine threads, showcasing delicate craftsmanship and artistic flair.\"\n",
    "output_subdir = \"sloth_plushie_crochet\"\n",
    "embeddings = \"embeddings/dreambooth/grey_sloth_plushie\"\n",
    "gen_images = generate_images(prompt,num_images,output_dir,output_subdir,embeddings=embeddings)\n",
    "# compute clip similarity\n",
    "similarity_score = compute_clip_similarity(gen_images,prompt)\n",
    "print(f\"Similarity score for |{output_dir}| -> |{output_subdir}| : {similarity_score}\")\n",
    "# fid score\n",
    "real_img_dir = \"dataset/grey_sloth_plushie\"\n",
    "gen_img_dir = f\"{output_dir}/{output_subdir}\"\n",
    "print(\"Real Images:\", len(os.listdir(real_img_dir)))\n",
    "print(\"Generated Images:\", len(os.listdir(gen_img_dir)))\n",
    "# resize images in real\n",
    "resize_images(real_img_dir)\n",
    "# resize images in gen\n",
    "resize_images(gen_img_dir)\n",
    "# calculate fid score\n",
    "fid_score_val = fid_score_calc(real_img_dir,gen_img_dir)\n",
    "print(f\"FID score for |{real_img_dir}| -> |{gen_img_dir}| : {fid_score_val}\")"
   ]
  },
  {
   "cell_type": "code",
   "execution_count": null,
   "metadata": {},
   "outputs": [],
   "source": [
    "# display images\n",
    "gen_img_dir = f\"{output_dir}/{output_subdir}\"\n",
    "display_gen_imgs(gen_img_dir)"
   ]
  },
  {
   "cell_type": "markdown",
   "metadata": {},
   "source": [
    "6. backpack_dog"
   ]
  },
  {
   "cell_type": "code",
   "execution_count": null,
   "metadata": {},
   "outputs": [],
   "source": [
    "num_images = 10\n",
    "output_dir = \"Prompt_Images/Dreambooth/backpack_dog\"\n",
    "# small prompt\n",
    "prompt = \"A photo of a <dog> in a backpack\"\n",
    "output_subdir = \"dog_backpack_smallPrompt\"\n",
    "embeddings = \"embeddings/dreambooth/backpack_dog\"\n",
    "gen_images = generate_images(prompt,num_images,output_dir,output_subdir,embeddings=embeddings)\n",
    "# compute clip similarity\n",
    "similarity_score = compute_clip_similarity(gen_images,prompt)\n",
    "print(f\"Similarity score for |{output_dir}| -> |{output_subdir}| : {similarity_score}\")\n",
    "# fid score\n",
    "real_img_dir = \"dataset/backpack_dog\"\n",
    "gen_img_dir = f\"{output_dir}/{output_subdir}\"\n",
    "print(\"Real Images:\", len(os.listdir(real_img_dir)))\n",
    "print(\"Generated Images:\", len(os.listdir(gen_img_dir)))\n",
    "# resize images in real\n",
    "resize_images(real_img_dir)\n",
    "# resize images in gen\n",
    "resize_images(gen_img_dir)\n",
    "# calculate fid score\n",
    "fid_score_val = fid_score_calc(real_img_dir,gen_img_dir)\n",
    "print(f\"FID score for |{real_img_dir}| -> |{gen_img_dir}| : {fid_score_val}\")"
   ]
  },
  {
   "cell_type": "code",
   "execution_count": null,
   "metadata": {},
   "outputs": [],
   "source": [
    "# display images\n",
    "gen_img_dir = f\"{output_dir}/{output_subdir}\"\n",
    "display_gen_imgs(gen_img_dir)"
   ]
  },
  {
   "cell_type": "code",
   "execution_count": null,
   "metadata": {},
   "outputs": [],
   "source": [
    "num_images = 10\n",
    "output_dir = \"Prompt_Images/Dreambooth/backpack_dog\"\n",
    "# larger prompt\n",
    "prompt = \"Studio shot of <dog> backpack on a white background, product photography style.\"\n",
    "output_subdir = \"dog_backpack_largePrompt\"\n",
    "embeddings = \"embeddings/dreambooth/backpack_dog\"\n",
    "gen_images = generate_images(prompt,num_images,output_dir,output_subdir,embeddings=embeddings)\n",
    "# compute clip similarity\n",
    "similarity_score = compute_clip_similarity(gen_images,prompt)\n",
    "print(f\"Similarity score for |{output_dir}| -> |{output_subdir}| : {similarity_score}\")\n",
    "# fid score\n",
    "real_img_dir = \"dataset/backpack_dog\"\n",
    "gen_img_dir = f\"{output_dir}/{output_subdir}\"\n",
    "print(\"Real Images:\", len(os.listdir(real_img_dir)))\n",
    "print(\"Generated Images:\", len(os.listdir(gen_img_dir)))\n",
    "# resize images in real\n",
    "resize_images(real_img_dir)\n",
    "# resize images in gen\n",
    "resize_images(gen_img_dir)\n",
    "# calculate fid score\n",
    "fid_score_val = fid_score_calc(real_img_dir,gen_img_dir)\n",
    "print(f\"FID score for |{real_img_dir}| -> |{gen_img_dir}| : {fid_score_val}\")"
   ]
  }
 ],
 "metadata": {
  "kernelspec": {
   "display_name": "python311",
   "language": "python",
   "name": "python3"
  },
  "language_info": {
   "codemirror_mode": {
    "name": "ipython",
    "version": 3
   },
   "file_extension": ".py",
   "mimetype": "text/x-python",
   "name": "python",
   "nbconvert_exporter": "python",
   "pygments_lexer": "ipython3",
   "version": "3.11.11"
  }
 },
 "nbformat": 4,
 "nbformat_minor": 2
}
