{
 "cells": [
  {
   "cell_type": "code",
   "execution_count": null,
   "metadata": {},
   "outputs": [],
   "source": [
    "import torch\n",
    "import clip\n",
    "from PIL import Image\n",
    "import numpy as np\n",
    "from diffusers import StableDiffusionPipeline\n",
    "import torch\n",
    "import os\n",
    "import random\n",
    "from pytorch_fid import fid_score"
   ]
  },
  {
   "cell_type": "code",
   "execution_count": 4,
   "metadata": {},
   "outputs": [
    {
     "name": "stdout",
     "output_type": "stream",
     "text": [
      "CUDA cache emptied.\n"
     ]
    },
    {
     "data": {
      "text/plain": [
       "0"
      ]
     },
     "execution_count": 4,
     "metadata": {},
     "output_type": "execute_result"
    }
   ],
   "source": [
    "# empty cuda \n",
    "import torch\n",
    "if torch.cuda.is_available():\n",
    "    torch.cuda.empty_cache()\n",
    "    print(\"CUDA cache emptied.\")\n",
    "else:\n",
    "    print(\"CUDA is not available.\")\n",
    "\n",
    "# gc \n",
    "import gc\n",
    "gc.collect()\n",
    "    "
   ]
  },
  {
   "cell_type": "code",
   "execution_count": 5,
   "metadata": {},
   "outputs": [
    {
     "data": {
      "text/plain": [
       "'cuda'"
      ]
     },
     "execution_count": 5,
     "metadata": {},
     "output_type": "execute_result"
    }
   ],
   "source": [
    "device = \"cuda\" if torch.cuda.is_available() else \"cpu\"\n",
    "device"
   ]
  },
  {
   "cell_type": "code",
   "execution_count": 5,
   "metadata": {},
   "outputs": [],
   "source": [
    "# !pip install diffusers[flax] accelerate transformers\n",
    "# !pip install xformers"
   ]
  },
  {
   "cell_type": "code",
   "execution_count": null,
   "metadata": {},
   "outputs": [],
   "source": [
    "# !bash launch_textualInversion.sh"
   ]
  },
  {
   "cell_type": "code",
   "execution_count": 6,
   "metadata": {},
   "outputs": [],
   "source": [
    "clip_model, preprocess = clip.load(\"ViT-B/32\", device=device)\n"
   ]
  },
  {
   "cell_type": "code",
   "execution_count": 7,
   "metadata": {},
   "outputs": [],
   "source": [
    "def generate_images(prompt,num_images,output_dir,output_subdir,embeddings):\n",
    "    # Create the directory if it doesn't exist\n",
    "    if not os.path.exists(output_dir):\n",
    "        os.makedirs(output_dir)\n",
    "\n",
    "    if not os.path.exists(f\"{output_dir}/{output_subdir}\"):\n",
    "        os.makedirs(f\"{output_dir}/{output_subdir}\")\n",
    "\n",
    "    model_id = \"runwayml/stable-diffusion-v1-5\"\n",
    "    pipe = StableDiffusionPipeline.from_pretrained(model_id,torch_dtype=torch.float16).to(device)\n",
    "\n",
    "    pipe.load_textual_inversion(embeddings)\n",
    "    gen_images = []\n",
    "    for i in range(num_images):\n",
    "        image = pipe(prompt, num_inference_steps=50, guidance_scale=7.5).images[0]\n",
    "        # extarct image name from output_subdir\n",
    "        image_name = output_subdir.split(\"/\")[-1]\n",
    "      \n",
    "        image.save(f\"{output_dir}/{output_subdir}/{image_name}_{i}.png\")\n",
    "        print(f\"Image {i} saved.\")\n",
    "        gen_images.append(f\"{output_dir}/{output_subdir}/{image_name}_{i}.png\")\n",
    "    return gen_images\n",
    "\n",
    "\n",
    "def compute_clip_similarity(gen_images,prompt):\n",
    "\n",
    "    # encode text\n",
    "    text = clip.tokenize([prompt]).to(device)\n",
    "    # Encode the text prompt\n",
    "    with torch.no_grad():\n",
    "        text_features = clip_model.encode_text(text)\n",
    "    # Normalize the text features\n",
    "    text_features /= text_features.norm(dim=-1, keepdim=True)\n",
    "\n",
    "    similarity_scores = []\n",
    "\n",
    "    # check if gen_images is a list of images or a direct\n",
    "\n",
    "    for image in gen_images:\n",
    "        # Preprocess the image\n",
    "        image = preprocess(Image.open(image)).unsqueeze(0).to(device)\n",
    "        # Encode the image\n",
    "        with torch.no_grad():\n",
    "            image_features = clip_model.encode_image(image)\n",
    "        # Normalize the image features\n",
    "        image_features /= image_features.norm(dim=-1, keepdim=True)\n",
    "        # Calculate the similarity score\n",
    "        similarity_score = (image_features @ text_features.T).squeeze(0)\n",
    "        similarity_scores.append(similarity_score.item())\n",
    "    return np.mean(similarity_scores)\n",
    "\n",
    "\n",
    "def fid_score_calc(real_img_dir,gen_img_dir):\n",
    "    # from fid_score import calculate_fid_given_paths\n",
    "    # Calculate FID score\n",
    "    fid_score_val = fid_score.calculate_fid_given_paths([real_img_dir, gen_img_dir], batch_size=2, device=device,dims=2048)\n",
    "    return fid_score_val\n",
    "\n",
    "\n",
    "def resize_images(image_dir, target_size=(256, 256)):\n",
    "\n",
    "    valid_extensions = ('.png', '.jpg', '.jpeg')\n",
    "    for img_name in os.listdir(image_dir):\n",
    "        if img_name.endswith(valid_extensions):\n",
    "            img_path = os.path.join(image_dir, img_name)\n",
    "            img = Image.open(img_path).resize(target_size)\n",
    "            img.save(img_path)\n",
    "\n",
    "\n",
    "from PIL import Image\n",
    "import os\n",
    "import matplotlib.pyplot as plt\n",
    "\n",
    "def display_images_in_directory(directory):\n",
    "    # Get a list of all image files in the directory\n",
    "    image_files = [f for f in os.listdir(directory) if f.endswith(('.png', '.jpg', '.jpeg'))]\n",
    "\n",
    "    # Create a figure to display the images\n",
    "    plt.figure(figsize=(10, 5))\n",
    "\n",
    "    # Loop through the image files and display each one\n",
    "    for i, image_file in enumerate(image_files):\n",
    "        image_path = os.path.join(directory, image_file)\n",
    "        img = Image.open(image_path)\n",
    "        plt.subplot(3, 3, i + 1)\n",
    "        plt.imshow(img)\n",
    "        plt.axis('off')\n",
    "        plt.title(image_file)\n",
    "\n",
    "    plt.tight_layout()\n",
    "    plt.show()\n",
    "\n",
    "\n",
    "import os\n",
    "import matplotlib.pyplot as plt\n",
    "from PIL import Image\n",
    "\n",
    "def display_gen_imgs(dir, max_images=10):\n",
    "    # Get a list of image files (sorted for consistency)\n",
    "    image_files = sorted([f for f in os.listdir(dir) if f.lower().endswith(('.png', '.jpg', '.jpeg'))])\n",
    "    image_files = image_files[:max_images]\n",
    "    num_images = len(image_files)\n",
    "\n",
    "    # Grid dimensions (e.g., 5x2 for 10 images)\n",
    "    cols = 5\n",
    "    rows = (num_images + cols - 1) // cols\n",
    "\n",
    "    # Plot the images\n",
    "    plt.figure(figsize=(4 * cols, 4 * rows))\n",
    "    for i, image_file in enumerate(image_files):\n",
    "        image_path = os.path.join(dir, image_file)\n",
    "        img = Image.open(image_path)\n",
    "        plt.subplot(rows, cols, i + 1)\n",
    "        plt.imshow(img)\n",
    "        plt.axis('off')\n",
    "        plt.title(image_file, fontsize=8)\n",
    "\n",
    "    plt.tight_layout()\n",
    "    plt.show()\n",
    "\n",
    "\n"
   ]
  },
  {
   "cell_type": "markdown",
   "metadata": {},
   "source": [
    "## Wikiart dataset"
   ]
  },
  {
   "cell_type": "markdown",
   "metadata": {},
   "source": [
    "1. **Impressionism** class"
   ]
  },
  {
   "cell_type": "code",
   "execution_count": null,
   "metadata": {},
   "outputs": [],
   "source": [
    "num_images = 10\n",
    "output_dir = \"Prompt_Images/Impressionism\"\n",
    "prompt_test = \"<impressionism-style> A serene lakeside scene at sunset, with soft brushstrokes and warm pastel colors, capturing the movement of light on water.\"\n",
    "# generate images\n",
    "gen_images = generate_images(prompt_test,num_images,output_dir,\"lakeside\", \"embeddings/Impressionism\")\n",
    "# compute clip similarity\n",
    "similarity_score = compute_clip_similarity(gen_images,prompt_test)\n",
    "print(f\"CLIP Similarity Score: {similarity_score}\")\n",
    "\n",
    "\n"
   ]
  },
  {
   "cell_type": "code",
   "execution_count": 12,
   "metadata": {},
   "outputs": [
    {
     "name": "stdout",
     "output_type": "stream",
     "text": [
      "Real Images: 40\n",
      "Generated Images: 10\n",
      "Prompt_Images/Impressionism/lakeside\n"
     ]
    },
    {
     "name": "stderr",
     "output_type": "stream",
     "text": [
      "100%|██████████| 20/20 [00:00<00:00, 39.17it/s]\n",
      "100%|██████████| 5/5 [00:00<00:00, 28.46it/s]\n"
     ]
    },
    {
     "name": "stdout",
     "output_type": "stream",
     "text": [
      "FID Score: 310.3736006785706\n"
     ]
    }
   ],
   "source": [
    "# calculate fid score\n",
    "real_img_dir = \"wikiart_curated/kaggle/working/wikiart_curated/Impressionism\"\n",
    "resize_images(real_img_dir)\n",
    "\n",
    "gen_img_dir = f\"{output_dir}/lakeside\"\n",
    "\n",
    "print(\"Real Images:\", len(os.listdir(real_img_dir)))\n",
    "print(\"Generated Images:\", len(os.listdir(gen_img_dir)))\n",
    "\n",
    "# len(gen_images)\n",
    "print(gen_img_dir)\n",
    "\n",
    "\n",
    "# resize images in gen\n",
    "resize_images(gen_img_dir)\n",
    "# calculate fid score\n",
    "fid_score_val = fid_score_calc(real_img_dir, gen_img_dir)\n",
    "print(f\"FID Score: {fid_score_val}\")"
   ]
  },
  {
   "cell_type": "code",
   "execution_count": null,
   "metadata": {},
   "outputs": [],
   "source": [
    "num_images = 10\n",
    "output_dir = \"Prompt_Images/Impressionism\"\n",
    "prompt_test = \"<impressionism-style> A woman seated indoors near a sunlit balcony, with soft, textured brushstrokes and warm, muted tones, evoking a serene and reflective atmosphere watching another woman outside the balcony.\"\n",
    "\n",
    "# generate images\n",
    "gen_images = generate_images(prompt_test,num_images,output_dir,\"Women_on_Balcony\", \"embeddings/Impressionism\")\n",
    "# compute clip similarity\n",
    "similarity_score = compute_clip_similarity(gen_images,prompt_test)\n",
    "print(f\"CLIP Similarity Score: {similarity_score}\")"
   ]
  },
  {
   "cell_type": "code",
   "execution_count": 15,
   "metadata": {},
   "outputs": [
    {
     "name": "stderr",
     "output_type": "stream",
     "text": [
      "100%|██████████| 20/20 [00:00<00:00, 37.23it/s]\n",
      "100%|██████████| 8/8 [00:00<00:00, 29.78it/s]\n"
     ]
    },
    {
     "name": "stdout",
     "output_type": "stream",
     "text": [
      "FID Score: 388.29444870692066\n"
     ]
    }
   ],
   "source": [
    "real_img_dir = \"wikiart_curated/kaggle/working/wikiart_curated/Impressionism\"\n",
    "resize_images(real_img_dir)\n",
    "gen_img_dir = f\"{output_dir}/Women_on_Balcony\"\n",
    "resize_images(gen_img_dir)\n",
    "\n",
    "fid_score_val = fid_score_calc(real_img_dir, gen_img_dir)\n",
    "print(f\"FID Score: {fid_score_val}\")"
   ]
  },
  {
   "cell_type": "code",
   "execution_count": null,
   "metadata": {},
   "outputs": [],
   "source": [
    "# display images\n",
    "gen_img_dir = f\"{output_dir}/Women_on_Balcony\"\n",
    "display_gen_imgs(gen_img_dir)"
   ]
  },
  {
   "cell_type": "markdown",
   "metadata": {},
   "source": [
    "2. **Abstract Expresssioism** class"
   ]
  },
  {
   "cell_type": "code",
   "execution_count": null,
   "metadata": {},
   "outputs": [],
   "source": [
    "num_images = 10\n",
    "output_dir = \"Prompt_Images/Abstract_Expressionism\"\n",
    "prompt_test = \"<Abstract_Expressionism-style> A dynamic explosion of colors and shapes, with bold brushstrokes and a sense of movement, capturing the essence of abstract expressionism.\"\n",
    "# generate images\n",
    "gen_images = generate_images(prompt_test,num_images,output_dir,\"abstract_expressionism\", \"embeddings/Abstract_Expressionism\")\n",
    "# compute clip similarity\n",
    "similarity_score = compute_clip_similarity(gen_images,prompt_test)\n",
    "print(f\"CLIP Similarity Score: {similarity_score}\")"
   ]
  },
  {
   "cell_type": "code",
   "execution_count": 8,
   "metadata": {},
   "outputs": [
    {
     "name": "stdout",
     "output_type": "stream",
     "text": [
      "Real Images: 40\n",
      "Generated Images: 10\n",
      "Prompt_Images/Abstract_Expressionism/abstract_expressionism\n"
     ]
    },
    {
     "name": "stderr",
     "output_type": "stream",
     "text": [
      "100%|██████████| 20/20 [00:00<00:00, 28.62it/s]\n",
      "100%|██████████| 5/5 [00:00<00:00, 15.69it/s]\n"
     ]
    },
    {
     "name": "stdout",
     "output_type": "stream",
     "text": [
      "FID Score: 446.05996104902334\n"
     ]
    }
   ],
   "source": [
    "# calculate fid score\n",
    "real_img_dir = \"wikiart_curated/kaggle/working/wikiart_curated/Abstract_Expressionism\"\n",
    "resize_images(real_img_dir)\n",
    "gen_img_dir = f\"{output_dir}/abstract_expressionism\"\n",
    "print(\"Real Images:\", len(os.listdir(real_img_dir)))\n",
    "print(\"Generated Images:\", len(os.listdir(gen_img_dir)))\n",
    "# len(gen_images)\n",
    "print(gen_img_dir)\n",
    "resize_images(real_img_dir)\n",
    "# resize images in gen\n",
    "resize_images(gen_img_dir)\n",
    "# calculate fid score\n",
    "fid_score_val = fid_score_calc(real_img_dir, gen_img_dir)\n",
    "print(f\"FID Score: {fid_score_val}\")"
   ]
  },
  {
   "cell_type": "markdown",
   "metadata": {},
   "source": [
    "3. **Action_painting** class"
   ]
  },
  {
   "cell_type": "code",
   "execution_count": null,
   "metadata": {},
   "outputs": [],
   "source": [
    "dir = \"wikiart_curated/kaggle/working/wikiart_curated/Action_painting\"\n",
    "\n",
    "# print 10 images in the directory\n",
    "import os\n",
    "\n",
    "import random\n",
    "\n",
    "import matplotlib.pyplot as plt\n",
    "import matplotlib.image as mpimg\n",
    "\n",
    "import numpy as np\n",
    "\n",
    "# Get a list of all files in the directory\n",
    "files = os.listdir(dir)\n",
    "# Filter the list to include only image files\n",
    "\n",
    "image_files = [f for f in files if f.endswith(('.png', '.jpg', '.jpeg'))]\n",
    "\n",
    "# Randomly select 10 images\n",
    "random_images = random.sample(image_files, 10)\n",
    "# Display the images\n",
    "plt.figure(figsize=(20, 10))\n",
    "for i, img_file in enumerate(random_images):\n",
    "    img_path = os.path.join(dir, img_file)\n",
    "    img = mpimg.imread(img_path)\n",
    "    plt.subplot(2, 5, i + 1)\n",
    "    plt.imshow(img)\n",
    "    plt.axis('off')\n",
    "plt.show()\n"
   ]
  },
  {
   "cell_type": "code",
   "execution_count": null,
   "metadata": {},
   "outputs": [],
   "source": [
    "num_images = 10\n",
    "output_dir = \"Prompt_Images/Action_painting\"\n",
    "prompt_test = \"<Action_painting-style> A dark and chaotic action painting, aggressive brushstrokes, bold streaks of black, red, and white, raw emotional energy on canvas\"\n",
    "# generate images\n",
    "gen_images = generate_images(prompt_test,num_images,output_dir,\"action_painting\", \"embeddings/Action_painting\")\n",
    "# compute clip similarity\n",
    "similarity_score = compute_clip_similarity(gen_images,prompt_test)\n",
    "print(f\"CLIP Similarity Score: {similarity_score}\")\n",
    "\n",
    "\n"
   ]
  },
  {
   "cell_type": "code",
   "execution_count": null,
   "metadata": {},
   "outputs": [],
   "source": [
    "action_painting_dir = \"Prompt_Images/Action_painting/action_painting\"\n",
    "\n",
    "display_gen_imgs(action_painting_dir)"
   ]
  },
  {
   "cell_type": "code",
   "execution_count": 11,
   "metadata": {},
   "outputs": [
    {
     "name": "stdout",
     "output_type": "stream",
     "text": [
      "Real Images: 40\n",
      "Generated Images: 10\n",
      "Prompt_Images/Action_painting/action_painting\n"
     ]
    },
    {
     "name": "stderr",
     "output_type": "stream",
     "text": [
      "100%|██████████| 20/20 [00:00<00:00, 24.67it/s]\n",
      "100%|██████████| 5/5 [00:00<00:00, 13.15it/s]\n"
     ]
    },
    {
     "name": "stdout",
     "output_type": "stream",
     "text": [
      "FID Score: 465.28043514036847\n"
     ]
    }
   ],
   "source": [
    "real_img_dir = \"wikiart_curated/kaggle/working/wikiart_curated/Action_painting\"\n",
    "\n",
    "gen_img_dir = f\"{output_dir}/action_painting\"\n",
    "print(\"Real Images:\", len(os.listdir(real_img_dir)))\n",
    "print(\"Generated Images:\", len(os.listdir(gen_img_dir)))\n",
    "# len(gen_images)\n",
    "print(gen_img_dir)\n",
    "# resize images in gen\n",
    "resize_images(real_img_dir)\n",
    "# resize images in gen\n",
    "resize_images(gen_img_dir)\n",
    "# calculate fid score\n",
    "fid_score_val = fid_score_calc(real_img_dir, gen_img_dir)\n",
    "print(f\"FID Score: {fid_score_val}\")"
   ]
  },
  {
   "cell_type": "markdown",
   "metadata": {},
   "source": [
    "4. **Analytical_Cubism** class"
   ]
  },
  {
   "cell_type": "code",
   "execution_count": null,
   "metadata": {},
   "outputs": [],
   "source": [
    "dir = \"wikiart_curated/kaggle/working/wikiart_curated/Analytical_Cubism\"\n",
    "# print 10 images in the directory\n",
    "import os\n",
    "import random\n",
    "\n",
    "import matplotlib.pyplot as plt\n",
    "\n",
    "import matplotlib.image as mpimg\n",
    "\n",
    "import numpy as np\n",
    "\n",
    "# Get a list of all files in the directory\n",
    "files = os.listdir(dir)\n",
    "# Filter the list to include only image files\n",
    "image_files = [f for f in files if f.endswith(('.png', '.jpg', '.jpeg'))]\n",
    "# Randomly select 10 images\n",
    "\n",
    "random_images = random.sample(image_files, 10)\n",
    "# Display the images\n",
    "plt.figure(figsize=(20, 10))\n",
    "\n",
    "for i, img_file in enumerate(random_images):\n",
    "    img_path = os.path.join(dir, img_file)\n",
    "    img = mpimg.imread(img_path)\n",
    "    plt.subplot(2, 5, i + 1)\n",
    "    plt.imshow(img)\n",
    "    plt.axis('off')\n",
    "plt.show()\n"
   ]
  },
  {
   "cell_type": "code",
   "execution_count": 11,
   "metadata": {},
   "outputs": [
    {
     "data": {
      "application/vnd.jupyter.widget-view+json": {
       "model_id": "51f157c31ffb4331bd47b271e82476e1",
       "version_major": 2,
       "version_minor": 0
      },
      "text/plain": [
       "Loading pipeline components...:   0%|          | 0/7 [00:00<?, ?it/s]"
      ]
     },
     "metadata": {},
     "output_type": "display_data"
    },
    {
     "data": {
      "application/vnd.jupyter.widget-view+json": {
       "model_id": "4fcefe896818489e8018096dd8e03f48",
       "version_major": 2,
       "version_minor": 0
      },
      "text/plain": [
       "  0%|          | 0/50 [00:00<?, ?it/s]"
      ]
     },
     "metadata": {},
     "output_type": "display_data"
    },
    {
     "name": "stdout",
     "output_type": "stream",
     "text": [
      "Image 0 saved.\n"
     ]
    },
    {
     "data": {
      "application/vnd.jupyter.widget-view+json": {
       "model_id": "00a1fc4bfdb54844b9f6991318c66584",
       "version_major": 2,
       "version_minor": 0
      },
      "text/plain": [
       "  0%|          | 0/50 [00:00<?, ?it/s]"
      ]
     },
     "metadata": {},
     "output_type": "display_data"
    },
    {
     "name": "stdout",
     "output_type": "stream",
     "text": [
      "Image 1 saved.\n"
     ]
    },
    {
     "data": {
      "application/vnd.jupyter.widget-view+json": {
       "model_id": "933d0a46414b4c599551e98bdcdd0475",
       "version_major": 2,
       "version_minor": 0
      },
      "text/plain": [
       "  0%|          | 0/50 [00:00<?, ?it/s]"
      ]
     },
     "metadata": {},
     "output_type": "display_data"
    },
    {
     "name": "stdout",
     "output_type": "stream",
     "text": [
      "Image 2 saved.\n"
     ]
    },
    {
     "data": {
      "application/vnd.jupyter.widget-view+json": {
       "model_id": "43f93fea4bd2496588707c6e05836c5d",
       "version_major": 2,
       "version_minor": 0
      },
      "text/plain": [
       "  0%|          | 0/50 [00:00<?, ?it/s]"
      ]
     },
     "metadata": {},
     "output_type": "display_data"
    },
    {
     "name": "stdout",
     "output_type": "stream",
     "text": [
      "Image 3 saved.\n"
     ]
    },
    {
     "data": {
      "application/vnd.jupyter.widget-view+json": {
       "model_id": "74ecf4fa5cfd47fbaaeb673c43a888a6",
       "version_major": 2,
       "version_minor": 0
      },
      "text/plain": [
       "  0%|          | 0/50 [00:00<?, ?it/s]"
      ]
     },
     "metadata": {},
     "output_type": "display_data"
    },
    {
     "name": "stdout",
     "output_type": "stream",
     "text": [
      "Image 4 saved.\n"
     ]
    },
    {
     "data": {
      "application/vnd.jupyter.widget-view+json": {
       "model_id": "2ce31b0bd7094fd89d0166b8e17f4d56",
       "version_major": 2,
       "version_minor": 0
      },
      "text/plain": [
       "  0%|          | 0/50 [00:00<?, ?it/s]"
      ]
     },
     "metadata": {},
     "output_type": "display_data"
    },
    {
     "name": "stdout",
     "output_type": "stream",
     "text": [
      "Image 5 saved.\n"
     ]
    },
    {
     "data": {
      "application/vnd.jupyter.widget-view+json": {
       "model_id": "cb425d7c46db4e1e86bd8bce90e9845f",
       "version_major": 2,
       "version_minor": 0
      },
      "text/plain": [
       "  0%|          | 0/50 [00:00<?, ?it/s]"
      ]
     },
     "metadata": {},
     "output_type": "display_data"
    },
    {
     "name": "stdout",
     "output_type": "stream",
     "text": [
      "Image 6 saved.\n"
     ]
    },
    {
     "data": {
      "application/vnd.jupyter.widget-view+json": {
       "model_id": "f998413262b84dc9a394dfec7edfeb35",
       "version_major": 2,
       "version_minor": 0
      },
      "text/plain": [
       "  0%|          | 0/50 [00:00<?, ?it/s]"
      ]
     },
     "metadata": {},
     "output_type": "display_data"
    },
    {
     "name": "stdout",
     "output_type": "stream",
     "text": [
      "Image 7 saved.\n"
     ]
    },
    {
     "data": {
      "application/vnd.jupyter.widget-view+json": {
       "model_id": "d1d0c14fcfd4458e832e7b8a12125fd6",
       "version_major": 2,
       "version_minor": 0
      },
      "text/plain": [
       "  0%|          | 0/50 [00:00<?, ?it/s]"
      ]
     },
     "metadata": {},
     "output_type": "display_data"
    },
    {
     "name": "stdout",
     "output_type": "stream",
     "text": [
      "Image 8 saved.\n"
     ]
    },
    {
     "data": {
      "application/vnd.jupyter.widget-view+json": {
       "model_id": "e1d5d04f55e049b1aee66d50fb002360",
       "version_major": 2,
       "version_minor": 0
      },
      "text/plain": [
       "  0%|          | 0/50 [00:00<?, ?it/s]"
      ]
     },
     "metadata": {},
     "output_type": "display_data"
    },
    {
     "name": "stderr",
     "output_type": "stream",
     "text": [
      "Potential NSFW content was detected in one or more images. A black image will be returned instead. Try again with a different prompt and/or seed.\n"
     ]
    },
    {
     "name": "stdout",
     "output_type": "stream",
     "text": [
      "Image 9 saved.\n",
      "CLIP Similarity Score: 0.33416748046875\n"
     ]
    }
   ],
   "source": [
    "num_images = 10\n",
    "output_dir = \"Prompt_Images/Analytical_Cubism\"\n",
    "\n",
    "prompt_test = \"<Analytical_Cubism-style> A distorted cubist portrait, angular planes, multiple perspectives merged into one, abstract facial features, using earthy browns, greys, and ochre.\"\n",
    "# generate images\n",
    "gen_images = generate_images(prompt_test,num_images,output_dir,\"analytical_cubism\", \"embeddings/Analytical_Cubism\")\n",
    "# compute clip similarity\n",
    "similarity_score = compute_clip_similarity(gen_images,prompt_test)\n",
    "print(f\"CLIP Similarity Score: {similarity_score}\")\n"
   ]
  },
  {
   "cell_type": "code",
   "execution_count": 12,
   "metadata": {},
   "outputs": [
    {
     "name": "stdout",
     "output_type": "stream",
     "text": [
      "Real Images: 40\n",
      "Generated Images: 10\n"
     ]
    },
    {
     "name": "stderr",
     "output_type": "stream",
     "text": [
      "100%|██████████| 20/20 [00:00<00:00, 26.37it/s]\n",
      "100%|██████████| 5/5 [00:00<00:00, 21.40it/s]\n"
     ]
    },
    {
     "name": "stdout",
     "output_type": "stream",
     "text": [
      "FID Score: 348.2420193210146\n"
     ]
    }
   ],
   "source": [
    "# fid \n",
    "real_img_dir = \"wikiart_curated/kaggle/working/wikiart_curated/Analytical_Cubism\"\n",
    "resize_images(real_img_dir)\n",
    "gen_img_dir = f\"{output_dir}/analytical_cubism\"\n",
    "print(\"Real Images:\", len(os.listdir(real_img_dir)))\n",
    "print(\"Generated Images:\", len(os.listdir(gen_img_dir)))\n",
    "# len(gen_images)\n",
    "# print(gen_img_dir)\n",
    "# resize images in gen\n",
    "resize_images(gen_img_dir)\n",
    "# calculate fid score\n",
    "fid_score_val = fid_score_calc(real_img_dir, gen_img_dir)\n",
    "print(f\"FID Score: {fid_score_val}\")"
   ]
  },
  {
   "cell_type": "markdown",
   "metadata": {},
   "source": [
    "## Dreambooth dataset"
   ]
  },
  {
   "cell_type": "markdown",
   "metadata": {},
   "source": [
    "1. **Cat** class"
   ]
  },
  {
   "cell_type": "code",
   "execution_count": null,
   "metadata": {},
   "outputs": [],
   "source": [
    "# display all images in a directory\n",
    "dir= \"dataset/cat\"\n",
    "\n",
    "# Example usage\n",
    "display_images_in_directory(dir)"
   ]
  },
  {
   "cell_type": "code",
   "execution_count": null,
   "metadata": {},
   "outputs": [],
   "source": [
    "num_images = 10\n",
    "output_dir = \"Prompt_Images/Dreambooth/cat\"\n",
    "prompt = \"A photo of <cat> in a grassy field during sunset\"\n",
    "output_subdir = \"cat_sunset\"\n",
    "embeddings = \"embeddings/dreambooth/cat\"\n",
    "gen_images = generate_images(prompt,num_images,output_dir,output_subdir,embeddings=embeddings)\n",
    "# compute clip similarity\n",
    "similarity_score = compute_clip_similarity(gen_images,prompt)\n",
    "print(f\"Similarity score for |{output_dir}| -> |{output_subdir}| : {similarity_score}\")"
   ]
  },
  {
   "cell_type": "code",
   "execution_count": null,
   "metadata": {},
   "outputs": [
    {
     "name": "stdout",
     "output_type": "stream",
     "text": [
      "Real Images: 5\n",
      "Generated Images: 10\n",
      "Valid Real Images: 5\n",
      "Valid Generated Images: 10\n",
      "Images resized!\n"
     ]
    },
    {
     "name": "stderr",
     "output_type": "stream",
     "text": [
      "100%|██████████| 3/3 [00:00<00:00,  5.29it/s]\n",
      "100%|██████████| 5/5 [00:00<00:00, 25.11it/s]\n"
     ]
    },
    {
     "name": "stdout",
     "output_type": "stream",
     "text": [
      "FID score for |dataset/cat| -> |Prompt_Images/Dreambooth/cat/cat_sunset| : 201.6868119294298\n"
     ]
    }
   ],
   "source": [
    "# fid score\n",
    "real_img_dir = \"dataset/cat\"\n",
    "gen_img_dir = f\"{output_dir}/{output_subdir}\"\n",
    "print(\"Real Images:\", len(os.listdir(real_img_dir)))\n",
    "print(\"Generated Images:\", len(os.listdir(gen_img_dir)))\n",
    "\n",
    "\n",
    "\n",
    "from PIL import Image\n",
    "\n",
    "\n",
    "\n",
    "resize_images(real_img_dir)\n",
    "resize_images(gen_img_dir)\n",
    "print(\"Images resized!\")\n",
    "\n",
    "\n",
    "fid_score_val = fid_score_calc(real_img_dir,gen_img_dir)\n",
    "print(f\"FID score for |{real_img_dir}| -> |{gen_img_dir}| : {fid_score_val}\")"
   ]
  },
  {
   "cell_type": "markdown",
   "metadata": {},
   "source": [
    "2. **dog** class"
   ]
  },
  {
   "cell_type": "code",
   "execution_count": null,
   "metadata": {},
   "outputs": [],
   "source": [
    "dir = \"dataset/dog\"\n",
    "\n",
    "# print all iamges in dir\n",
    "from PIL import Image\n",
    "import os\n",
    "\n",
    "import matplotlib.pyplot as plt\n",
    "\n",
    "display_images_in_directory(dir)\n",
    "    "
   ]
  },
  {
   "cell_type": "code",
   "execution_count": null,
   "metadata": {},
   "outputs": [],
   "source": [
    "num_images = 10\n",
    "\n",
    "output_dir = \"Prompt_Images/Dreambooth/dog\"\n",
    "prompt = \"A photo of <dog> in a grassy field during sunset\"\n",
    "output_subdir = \"dog_sunset\"\n",
    "embeddings = \"embeddings/dreambooth/dog\"\n",
    "gen_images = generate_images(prompt,num_images,output_dir,output_subdir,embeddings=embeddings)\n"
   ]
  },
  {
   "cell_type": "code",
   "execution_count": 10,
   "metadata": {},
   "outputs": [
    {
     "name": "stdout",
     "output_type": "stream",
     "text": [
      "Similarity score for |Prompt_Images/Dreambooth/dog| -> |dog_sunset| : 0.26429443359375\n"
     ]
    }
   ],
   "source": [
    "# compute clip similarity\n",
    "similarity_score = compute_clip_similarity(gen_images,prompt)\n",
    "print(f\"Similarity score for |{output_dir}| -> |{output_subdir}| : {similarity_score}\")"
   ]
  },
  {
   "cell_type": "code",
   "execution_count": 11,
   "metadata": {},
   "outputs": [
    {
     "name": "stdout",
     "output_type": "stream",
     "text": [
      "Real Images: 5\n",
      "Generated Images: 10\n"
     ]
    },
    {
     "name": "stderr",
     "output_type": "stream",
     "text": [
      "100%|██████████| 3/3 [00:00<00:00,  7.17it/s]\n",
      "100%|██████████| 5/5 [00:00<00:00, 23.97it/s]\n"
     ]
    },
    {
     "name": "stdout",
     "output_type": "stream",
     "text": [
      "FID score for |dataset/dog| -> |Prompt_Images/Dreambooth/dog/dog_sunset| : 174.79761776799165\n"
     ]
    }
   ],
   "source": [
    "# fid score\n",
    "real_img_dir = \"dataset/dog\"\n",
    "gen_img_dir = f\"{output_dir}/{output_subdir}\"\n",
    "print(\"Real Images:\", len(os.listdir(real_img_dir)))\n",
    "print(\"Generated Images:\", len(os.listdir(gen_img_dir)))\n",
    "\n",
    "resize_images(real_img_dir)\n",
    "# resize images in gen\n",
    "resize_images(gen_img_dir)\n",
    "\n",
    "\n",
    "# calculate fid score\n",
    "fid_score_val = fid_score_calc(real_img_dir,gen_img_dir)\n",
    "\n",
    "print(f\"FID score for |{real_img_dir}| -> |{gen_img_dir}| : {fid_score_val}\")"
   ]
  },
  {
   "cell_type": "code",
   "execution_count": null,
   "metadata": {},
   "outputs": [],
   "source": [
    "# test for 1 img\n",
    "num_images = 1\n",
    "test_prompt = \"A photo of <dog>\"\n",
    "output_dir = \"Prompt_Images/test\"\n",
    "output_subdir = \"testing\"\n",
    "embeddings = \"embeddings/dreambooth/dog\"\n",
    "gen_images = generate_images(test_prompt,num_images,output_dir,output_subdir,embeddings=embeddings)\n",
    "\n"
   ]
  },
  {
   "cell_type": "markdown",
   "metadata": {},
   "source": [
    "3. **shiny_sneaker** class"
   ]
  },
  {
   "cell_type": "code",
   "execution_count": null,
   "metadata": {},
   "outputs": [],
   "source": [
    "dir = \"dataset/shiny_sneaker\"\n",
    "display_images_in_directory(dir)\n"
   ]
  },
  {
   "cell_type": "code",
   "execution_count": null,
   "metadata": {},
   "outputs": [],
   "source": [
    "num_images = 10\n",
    "output_dir = \"Prompt_Images/Dreambooth/shiny_sneaker\"\n",
    "prompt = \"A photo of <sneaker> on a reflective surface, studio lighting, high detail, 8k resolution\"\n",
    "output_subdir = \"sneaker_studio\"\n",
    "embeddings = \"embeddings/dreambooth/shiny_sneaker\"\n",
    "gen_images = generate_images(prompt,num_images,output_dir,output_subdir,embeddings=embeddings)\n",
    "# compute clip similarity\n",
    "similarity_score = compute_clip_similarity(gen_images,prompt)\n",
    "print(f\"Similarity score for |{output_dir}| -> |{output_subdir}| : {similarity_score}\")"
   ]
  },
  {
   "cell_type": "code",
   "execution_count": 9,
   "metadata": {},
   "outputs": [
    {
     "name": "stdout",
     "output_type": "stream",
     "text": [
      "Real Images: 6\n",
      "Generated Images: 10\n"
     ]
    },
    {
     "name": "stderr",
     "output_type": "stream",
     "text": [
      "100%|██████████| 3/3 [00:00<00:00,  5.63it/s]\n",
      "100%|██████████| 5/5 [00:00<00:00, 19.48it/s]\n"
     ]
    },
    {
     "name": "stdout",
     "output_type": "stream",
     "text": [
      "FID score for |dataset/shiny_sneaker| -> |Prompt_Images/Dreambooth/shiny_sneaker/sneaker_studio| : 323.9680244701582\n"
     ]
    }
   ],
   "source": [
    "# fid score\n",
    "real_img_dir = \"dataset/shiny_sneaker\"  \n",
    "gen_img_dir = f\"{output_dir}/{output_subdir}\"\n",
    "print(\"Real Images:\", len(os.listdir(real_img_dir)))\n",
    "print(\"Generated Images:\", len(os.listdir(gen_img_dir)))\n",
    "# resize images in real\n",
    "resize_images(real_img_dir)\n",
    "# resize images in gen\n",
    "resize_images(gen_img_dir)\n",
    "# calculate fid score\n",
    "fid_score_val = fid_score_calc(real_img_dir,gen_img_dir)\n",
    "print(f\"FID score for |{real_img_dir}| -> |{gen_img_dir}| : {fid_score_val}\")"
   ]
  },
  {
   "cell_type": "markdown",
   "metadata": {},
   "source": [
    "4. **pink_sunglasses** class"
   ]
  },
  {
   "cell_type": "code",
   "execution_count": null,
   "metadata": {},
   "outputs": [],
   "source": [
    "dir = \"dataset/pink_sunglasses\"\n",
    "display_images_in_directory(dir)"
   ]
  },
  {
   "cell_type": "code",
   "execution_count": null,
   "metadata": {},
   "outputs": [],
   "source": [
    "num_images = 10\n",
    "output_dir = \"Prompt_Images/Dreambooth/pink_sunglasses\"\n",
    "prompt = \"A pink <sunglasses> on a soft silk fabric, aesthetic and elegant.\"\n",
    "output_subdir = \"sunglasses_silk\"\n",
    "embeddings = \"embeddings/dreambooth/pink_sunglasses\"\n",
    "gen_images = generate_images(prompt,num_images,output_dir,output_subdir,embeddings=embeddings)\n",
    "# compute clip similarity\n",
    "similarity_score = compute_clip_similarity(gen_images,prompt)\n",
    "print(f\"Similarity score for |{output_dir}| -> |{output_subdir}| : {similarity_score}\")"
   ]
  },
  {
   "cell_type": "code",
   "execution_count": null,
   "metadata": {},
   "outputs": [
    {
     "name": "stdout",
     "output_type": "stream",
     "text": [
      "Real Images: 6\n",
      "Generated Images: 10\n"
     ]
    },
    {
     "name": "stderr",
     "output_type": "stream",
     "text": [
      "100%|██████████| 3/3 [00:00<00:00, 14.83it/s]\n",
      "100%|██████████| 5/5 [00:00<00:00, 24.33it/s]\n"
     ]
    },
    {
     "name": "stdout",
     "output_type": "stream",
     "text": [
      "FID score for |dataset/pink_sunglasses| -> |Prompt_Images/Dreambooth/pink_sunglasses/sunglasses_silk| : 303.30047267339734\n"
     ]
    },
    {
     "ename": "",
     "evalue": "",
     "output_type": "error",
     "traceback": [
      "\u001b[1;31mThe Kernel crashed while executing code in the current cell or a previous cell. \n",
      "\u001b[1;31mPlease review the code in the cell(s) to identify a possible cause of the failure. \n",
      "\u001b[1;31mClick <a href='https://aka.ms/vscodeJupyterKernelCrash'>here</a> for more info. \n",
      "\u001b[1;31mView Jupyter <a href='command:jupyter.viewOutput'>log</a> for further details."
     ]
    }
   ],
   "source": [
    "# fid score\n",
    "real_img_dir = \"dataset/pink_sunglasses\"\n",
    "gen_img_dir = f\"{output_dir}/{output_subdir}\"\n",
    "print(\"Real Images:\", len(os.listdir(real_img_dir)))\n",
    "print(\"Generated Images:\", len(os.listdir(gen_img_dir)))\n",
    "# resize images in real\n",
    "resize_images(real_img_dir)\n",
    "# resize images in gen\n",
    "resize_images(gen_img_dir)\n",
    "# calculate fid score\n",
    "fid_score_val = fid_score_calc(real_img_dir,gen_img_dir)\n",
    "print(f\"FID score for |{real_img_dir}| -> |{gen_img_dir}| : {fid_score_val}\")"
   ]
  },
  {
   "cell_type": "code",
   "execution_count": null,
   "metadata": {},
   "outputs": [],
   "source": [
    "num_images = 10\n",
    "output_dir = \"Prompt_Images/Dreambooth/pink_sunglasses\"\n",
    "\n",
    "prompt = \"A pair of elegant pink <sunglasses> resting on a marble countertop, surrounded by soft natural light.\"\n",
    "output_subdir = \"sunglasses_marble\"\n",
    "embeddings = \"embeddings/dreambooth/pink_sunglasses\"\n",
    "gen_images = generate_images(prompt,num_images,output_dir,output_subdir,embeddings=embeddings)\n",
    "# compute clip similarity\n",
    "similarity_score = compute_clip_similarity(gen_images,prompt)\n",
    "print(f\"Similarity score for |{output_dir}| -> |{output_subdir}| : {similarity_score}\")"
   ]
  },
  {
   "cell_type": "code",
   "execution_count": null,
   "metadata": {},
   "outputs": [],
   "source": [
    "gen_img_dir = f\"{output_dir}/{output_subdir}\"\n",
    "display_gen_imgs(gen_img_dir)"
   ]
  },
  {
   "cell_type": "code",
   "execution_count": 23,
   "metadata": {},
   "outputs": [
    {
     "name": "stdout",
     "output_type": "stream",
     "text": [
      "Real Images: 6\n",
      "Generated Images: 10\n"
     ]
    },
    {
     "name": "stderr",
     "output_type": "stream",
     "text": [
      "100%|██████████| 3/3 [00:00<00:00,  7.82it/s]\n",
      "100%|██████████| 5/5 [00:00<00:00, 14.94it/s]\n"
     ]
    },
    {
     "name": "stdout",
     "output_type": "stream",
     "text": [
      "FID score for |dataset/pink_sunglasses| -> |Prompt_Images/Dreambooth/pink_sunglasses/sunglasses_marble| : 233.4216257075353\n"
     ]
    }
   ],
   "source": [
    "# fid score\n",
    "real_img_dir = \"dataset/pink_sunglasses\"\n",
    "gen_img_dir = f\"{output_dir}/{output_subdir}\"\n",
    "print(\"Real Images:\", len(os.listdir(real_img_dir)))\n",
    "print(\"Generated Images:\", len(os.listdir(gen_img_dir)))\n",
    "# resize images in real\n",
    "resize_images(real_img_dir)\n",
    "# resize images in gen\n",
    "resize_images(gen_img_dir)\n",
    "# calculate fid score\n",
    "fid_score_val = fid_score_calc(real_img_dir,gen_img_dir)\n",
    "print(f\"FID score for |{real_img_dir}| -> |{gen_img_dir}| : {fid_score_val}\")\n"
   ]
  }
 ],
 "metadata": {
  "kernelspec": {
   "display_name": "python311",
   "language": "python",
   "name": "python3"
  },
  "language_info": {
   "codemirror_mode": {
    "name": "ipython",
    "version": 3
   },
   "file_extension": ".py",
   "mimetype": "text/x-python",
   "name": "python",
   "nbconvert_exporter": "python",
   "pygments_lexer": "ipython3",
   "version": "3.11.11"
  }
 },
 "nbformat": 4,
 "nbformat_minor": 2
}
